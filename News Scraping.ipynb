{
 "cells": [
  {
   "cell_type": "code",
   "execution_count": 2,
   "metadata": {},
   "outputs": [],
   "source": [
    "import requests\n",
    "from bs4 import BeautifulSoup"
   ]
  },
  {
   "cell_type": "code",
   "execution_count": 28,
   "metadata": {},
   "outputs": [],
   "source": [
    "urls = ['https://www.bbc.com/news', 'https://edition.cnn.com/', 'https://www.reuters.com/']"
   ]
  },
  {
   "cell_type": "code",
   "execution_count": null,
   "metadata": {},
   "outputs": [],
   "source": [
    "url1 = 'https://www.bbc.com/news'\n",
    "url2 = 'https://edition.cnn.com/'\n",
    "url3 = 'https://www.reuters.com/'"
   ]
  },
  {
   "cell_type": "code",
   "execution_count": 3,
   "metadata": {},
   "outputs": [],
   "source": [
    "# bbc = h2\n",
    "cnn_class = 'container__headline-text'\n",
    "reuters_class = 'text__text__1FZLe text__inherit-color__3208F text__bold__2-8Kc text__heading_6__1qUJ5 heading__base__2T28j heading__heading_6_bold__1Kge5 title__heading__s7Jan'"
   ]
  },
  {
   "cell_type": "code",
   "execution_count": null,
   "metadata": {},
   "outputs": [],
   "source": [
    "classes = ['cnn_class', 'reuters_class']"
   ]
  },
  {
   "cell_type": "code",
   "execution_count": null,
   "metadata": {},
   "outputs": [],
   "source": [
    "def url_data(data):\n",
    "    print(f'{data} News Today.\\n')\n",
    "    "
   ]
  },
  {
   "cell_type": "code",
   "execution_count": 25,
   "metadata": {},
   "outputs": [
    {
     "data": {
      "text/plain": [
       "[<h2 class=\"sc-8ea7699c-3 kwWByH\" data-testid=\"card-headline\">Trump urges Putin to end ‘ridiculous’ Ukraine war or face new sanctions<!-- --></h2>,\n",
       " <h2 class=\"sc-8ea7699c-3 dhclWg\" data-testid=\"card-headline\">Trump moves to expand 'fast-track' deportations  <!-- --></h2>,\n",
       " <h2 class=\"sc-8ea7699c-3 dhclWg\" data-testid=\"card-headline\">UK tabloid owner to pay Prince Harry 'substantial' damages<!-- --></h2>,\n",
       " <h2 class=\"sc-8ea7699c-3 dhclWg\" data-testid=\"card-headline\">Toddler and man fatally stabbed in German park - Afghan man held<!-- --></h2>,\n",
       " <h2 class=\"sc-8ea7699c-3 dhclWg\" data-testid=\"card-headline\">Eleven killed after passengers fleeing rumours of fire were hit by another train<!-- --></h2>,\n",
       " <h2 class=\"sc-8ea7699c-3 dhclWg\" data-testid=\"card-headline\">Trump moves to expand 'fast-track' deportations  <!-- --></h2>,\n",
       " <h2 class=\"sc-8ea7699c-3 dhclWg\" data-testid=\"card-headline\">Convicted US Capitol rioter turns down Trump pardon<!-- --></h2>,\n",
       " <h2 class=\"sc-8ea7699c-3 dhclWg\" data-testid=\"card-headline\">About 1,000 North Koreans killed fighting Ukraine in Kursk, officials say<!-- --></h2>,\n",
       " <h2 class=\"sc-8ea7699c-3 dhclWg\" data-testid=\"card-headline\">India court orders seizure of 'offensive' MF Husain paintings<!-- --></h2>,\n",
       " <h2 class=\"sc-8ea7699c-3 dhclWg\" data-testid=\"card-headline\">UK tabloid owner to pay Prince Harry 'substantial' damages<!-- --></h2>,\n",
       " <h2 class=\"sc-8ea7699c-3 dhclWg\" data-testid=\"card-headline\">Acting or harassment? It Ends With Us stars at odds over out-takes<!-- --></h2>,\n",
       " <h2 class=\"sc-8ea7699c-3 dhclWg\" data-testid=\"card-headline\">Elephants are not people, US court rules<!-- --></h2>,\n",
       " <h2 class=\"sc-8ea7699c-3 dhclWg\" data-testid=\"card-headline\">S Korea to remove concrete barriers near runways after fatal crash<!-- --></h2>,\n",
       " <h2 class=\"sc-8ea7699c-3 dhclWg\" data-testid=\"card-headline\">South Africa's WW1 servicemen finally honoured at new memorial<!-- --></h2>,\n",
       " <h2 class=\"sc-8ea7699c-3 dhclWg\" data-testid=\"card-headline\">Children among dead as Turkey hotel fire investigation continues<!-- --></h2>,\n",
       " <h2 class=\"sc-7a382a26-4 gQxUVz\" data-testid=\"nevada-title\">Trump returns to power<!-- --></h2>,\n",
       " <h2 class=\"sc-8ea7699c-3 dhclWg\" data-testid=\"card-headline\">Trump puts all US government diversity staff on paid leave 'immediately'<!-- --></h2>,\n",
       " <h2 class=\"sc-8ea7699c-3 dhclWg\" data-testid=\"card-headline\">Six Trump executive orders to watch<!-- --></h2>,\n",
       " <h2 class=\"sc-8ea7699c-3 dhclWg\" data-testid=\"card-headline\">Trump pardons Silk Road dark web market creator Ross Ulbricht<!-- --></h2>,\n",
       " <h2 class=\"sc-8ea7699c-3 dhclWg\" data-testid=\"card-headline\">What Trump has done since taking power<!-- --></h2>,\n",
       " <h2 class=\"sc-8ea7699c-3 dhclWg\" data-testid=\"card-headline\">Tech giants announce $500bn 'Stargate' AI plan in US<!-- --></h2>,\n",
       " <h2 class=\"sc-7a382a26-4 gQxUVz\" data-testid=\"virginia-title\">More to explore<!-- --></h2>,\n",
       " <h2 class=\"sc-8ea7699c-3 kwWByH\" data-testid=\"card-headline\">'A long fight full of tears': Why Thailand became a haven for LGBT couples<!-- --></h2>,\n",
       " <h2 class=\"sc-8ea7699c-3 dhclWg\" data-testid=\"card-headline\">Has Prince Harry got what he wanted after tabloid apology?<!-- --></h2>,\n",
       " <h2 class=\"sc-8ea7699c-3 dhclWg\" data-testid=\"card-headline\">Teddy Swims: 'Every day I try to cry a little bit'<!-- --></h2>,\n",
       " <h2 class=\"sc-8ea7699c-3 dhclWg\" data-testid=\"card-headline\">War clinics in Ukraine witness sharp rise in drug-resistant infections<!-- --></h2>,\n",
       " <h2 class=\"sc-8ea7699c-3 dhclWg\" data-testid=\"card-headline\">'Hell on earth': China deportation looms for Uyghurs held in Thailand<!-- --></h2>,\n",
       " <h2 class=\"sc-8ea7699c-3 dhclWg\" data-testid=\"card-headline\">Has Prince Harry got what he wanted after tabloid apology?<!-- --></h2>,\n",
       " <h2 class=\"sc-8ea7699c-3 dhclWg\" data-testid=\"card-headline\">Her aunt's regime 'disappeared' people in Bangladesh - so why did Starmer make her a minister?<!-- --></h2>,\n",
       " <h2 class=\"sc-8ea7699c-3 dhclWg\" data-testid=\"card-headline\">Does China 'operate' Panama Canal, as Trump says?<!-- --></h2>,\n",
       " <h2 class=\"sc-8ea7699c-3 dhclWg\" data-testid=\"card-headline\">What led to hotel fire disaster at Turkish ski resort?<!-- --></h2>,\n",
       " <h2 class=\"sc-8ea7699c-3 dhclWg\" data-testid=\"card-headline\">Teddy Swims: 'Every day I try to cry a little bit'<!-- --></h2>,\n",
       " <h2 class=\"sc-7a382a26-4 gQxUVz\" data-testid=\"illinois-title\">Most watched<!-- --></h2>,\n",
       " <h2 class=\"sc-8ea7699c-3 igpHQe\" data-testid=\"card-headline\">Snow flurries are rare in US south – now a blizzard has hit<!-- --></h2>,\n",
       " <h2 class=\"sc-8ea7699c-3 igpHQe\" data-testid=\"card-headline\">Bishop asks Trump to show mercy to LGBT people and migrants <!-- --></h2>,\n",
       " <h2 class=\"sc-8ea7699c-3 igpHQe\" data-testid=\"card-headline\">BBC Verify: Can Donald Trump really rename the Gulf of Mexico?<!-- --></h2>,\n",
       " <h2 class=\"sc-8ea7699c-3 igpHQe\" data-testid=\"card-headline\">Trump 'not confident' Israel-Gaza ceasefire will hold<!-- --></h2>,\n",
       " <h2 class=\"sc-8ea7699c-3 igpHQe\" data-testid=\"card-headline\">Iconic Bourbon Street in New Orleans covered in rare snow<!-- --></h2>,\n",
       " <h2 class=\"sc-7a382a26-4 gQxUVz\" data-testid=\"illinois-title\">Most read<!-- --></h2>,\n",
       " <h2 class=\"sc-8ea7699c-3 igpHQe\" data-testid=\"card-headline\">Trump puts all US government diversity staff on paid leave 'immediately'<!-- --></h2>,\n",
       " <h2 class=\"sc-8ea7699c-3 igpHQe\" data-testid=\"card-headline\">Trump pardons Silk Road dark web market creator Ross Ulbricht<!-- --></h2>,\n",
       " <h2 class=\"sc-8ea7699c-3 igpHQe\" data-testid=\"card-headline\">Convicted US Capitol rioter turns down Trump pardon<!-- --></h2>,\n",
       " <h2 class=\"sc-8ea7699c-3 igpHQe\" data-testid=\"card-headline\">Trump moves to expand 'fast-track' deportations  <!-- --></h2>,\n",
       " <h2 class=\"sc-8ea7699c-3 igpHQe\" data-testid=\"card-headline\">All porn sites must 'robustly' verify UK user ages by July<!-- --></h2>,\n",
       " <h2 class=\"sc-8ea7699c-3 igpHQe\" data-testid=\"card-headline\">India court orders seizure of 'offensive' MF Husain paintings<!-- --></h2>,\n",
       " <h2 class=\"sc-8ea7699c-3 igpHQe\" data-testid=\"card-headline\">Six Trump executive orders to watch<!-- --></h2>,\n",
       " <h2 class=\"sc-8ea7699c-3 igpHQe\" data-testid=\"card-headline\">Boy, 12, killed in stabbing was 'adored'<!-- --></h2>,\n",
       " <h2 class=\"sc-8ea7699c-3 igpHQe\" data-testid=\"card-headline\">Thousands await stinky plant's rare bloom<!-- --></h2>,\n",
       " <h2 class=\"sc-8ea7699c-3 igpHQe\" data-testid=\"card-headline\">UK warns Putin after Russian spy ship returns to British waters<!-- --></h2>,\n",
       " <h2 class=\"sc-7a382a26-4 gQxUVz\" data-testid=\"virginia-title\">Also in news<!-- --></h2>,\n",
       " <h2 class=\"sc-8ea7699c-3 kwWByH\" data-testid=\"card-headline\">Thousands await stinky plant's rare bloom<!-- --></h2>,\n",
       " <h2 class=\"sc-8ea7699c-3 dhclWg\" data-testid=\"card-headline\">Yemen's Houthis release crew of seized cargo ship Galaxy Leader<!-- --></h2>,\n",
       " <h2 class=\"sc-8ea7699c-3 dhclWg\" data-testid=\"card-headline\">Italy releases Libyan wanted for alleged war crimes<!-- --></h2>,\n",
       " <h2 class=\"sc-8ea7699c-3 dhclWg\" data-testid=\"card-headline\">Ten Palestinians killed as Israeli forces launch major operation in Jenin<!-- --></h2>,\n",
       " <h2 class=\"sc-8ea7699c-3 dhclWg\" data-testid=\"card-headline\">Cat makes three flights in 24 hours after being left on plane<!-- --></h2>,\n",
       " <h2 class=\"sc-8ea7699c-3 dhclWg\" data-testid=\"card-headline\">Yemen's Houthis release crew of seized cargo ship Galaxy Leader<!-- --></h2>,\n",
       " <h2 class=\"sc-8ea7699c-3 dhclWg\" data-testid=\"card-headline\">Mystery balls on Sydney beaches found to contain faecal bacteria<!-- --></h2>,\n",
       " <h2 class=\"sc-8ea7699c-3 dhclWg\" data-testid=\"card-headline\">'A living hell': Sudanese women face rape and abuse in Libya<!-- --></h2>,\n",
       " <h2 class=\"sc-8ea7699c-3 dhclWg\" data-testid=\"card-headline\">Italy releases Libyan wanted for alleged war crimes<!-- --></h2>,\n",
       " <h2 class=\"sc-7a382a26-4 gQxUVz\" data-testid=\"virginia-title\">Sport<!-- --></h2>,\n",
       " <h2 class=\"sc-8ea7699c-3 kwWByH\" data-testid=\"card-headline\">England's new era begins with heavy India defeat<!-- --></h2>,\n",
       " <h2 class=\"sc-8ea7699c-3 dhclWg\" data-testid=\"card-headline\">Sinner dismisses health fears to reach semis <!-- --></h2>,\n",
       " <h2 class=\"sc-8ea7699c-3 dhclWg\" data-testid=\"card-headline\">IBA asks Trump to 'look into' 2028 Olympics omission<!-- --></h2>,\n",
       " <h2 class=\"sc-8ea7699c-3 dhclWg\" data-testid=\"card-headline\">Norris 'ready to bring the fight to everyone'<!-- --></h2>,\n",
       " <h2 class=\"sc-8ea7699c-3 dhclWg\" data-testid=\"card-headline\">Sabalenka &amp; Badosa put friendship aside for semi-finals<!-- --></h2>,\n",
       " <h2 class=\"sc-8ea7699c-3 dhclWg\" data-testid=\"card-headline\">Sinner dismisses health fears to reach semis <!-- --></h2>,\n",
       " <h2 class=\"sc-8ea7699c-3 dhclWg\" data-testid=\"card-headline\">Hamilton has first test in Ferrari F1 car at Fiorano<!-- --></h2>,\n",
       " <h2 class=\"sc-8ea7699c-3 dhclWg\" data-testid=\"card-headline\">'I was waiting for VAR' - Swiatek controversy reignites video debate<!-- --></h2>,\n",
       " <h2 class=\"sc-8ea7699c-3 dhclWg\" data-testid=\"card-headline\">IBA asks Trump to 'look into' 2028 Olympics omission<!-- --></h2>,\n",
       " <h2 class=\"sc-97754ce7-1 friRUH\">Follow BBC on:</h2>]"
      ]
     },
     "execution_count": 25,
     "metadata": {},
     "output_type": "execute_result"
    }
   ],
   "source": [
    "url1 = 'https://www.bbc.com/news'\n",
    "response = requests.get(url1)\n",
    "soup = BeautifulSoup(response.text, 'html.parser')\n",
    "soup.find_all('h2')"
   ]
  },
  {
   "cell_type": "code",
   "execution_count": 26,
   "metadata": {},
   "outputs": [
    {
     "data": {
      "text/plain": [
       "[<h2 class=\"sc-8ea7699c-3 kwWByH\" data-testid=\"card-headline\">Trump urges Putin to end ‘ridiculous’ Ukraine war or face new sanctions<!-- --></h2>,\n",
       " <h2 class=\"sc-8ea7699c-3 dhclWg\" data-testid=\"card-headline\">Trump moves to expand 'fast-track' deportations  <!-- --></h2>,\n",
       " <h2 class=\"sc-8ea7699c-3 dhclWg\" data-testid=\"card-headline\">UK tabloid owner to pay Prince Harry 'substantial' damages<!-- --></h2>,\n",
       " <h2 class=\"sc-8ea7699c-3 dhclWg\" data-testid=\"card-headline\">Toddler and man fatally stabbed in German park - Afghan man held<!-- --></h2>,\n",
       " <h2 class=\"sc-8ea7699c-3 dhclWg\" data-testid=\"card-headline\">Eleven killed after passengers fleeing rumours of fire were hit by another train<!-- --></h2>,\n",
       " <h2 class=\"sc-8ea7699c-3 dhclWg\" data-testid=\"card-headline\">Trump moves to expand 'fast-track' deportations  <!-- --></h2>,\n",
       " <h2 class=\"sc-8ea7699c-3 dhclWg\" data-testid=\"card-headline\">Convicted US Capitol rioter turns down Trump pardon<!-- --></h2>,\n",
       " <h2 class=\"sc-8ea7699c-3 dhclWg\" data-testid=\"card-headline\">About 1,000 North Koreans killed fighting Ukraine in Kursk, officials say<!-- --></h2>,\n",
       " <h2 class=\"sc-8ea7699c-3 dhclWg\" data-testid=\"card-headline\">India court orders seizure of 'offensive' MF Husain paintings<!-- --></h2>,\n",
       " <h2 class=\"sc-8ea7699c-3 dhclWg\" data-testid=\"card-headline\">UK tabloid owner to pay Prince Harry 'substantial' damages<!-- --></h2>,\n",
       " <h2 class=\"sc-8ea7699c-3 dhclWg\" data-testid=\"card-headline\">Acting or harassment? It Ends With Us stars at odds over out-takes<!-- --></h2>,\n",
       " <h2 class=\"sc-8ea7699c-3 dhclWg\" data-testid=\"card-headline\">Elephants are not people, US court rules<!-- --></h2>,\n",
       " <h2 class=\"sc-8ea7699c-3 dhclWg\" data-testid=\"card-headline\">S Korea to remove concrete barriers near runways after fatal crash<!-- --></h2>,\n",
       " <h2 class=\"sc-8ea7699c-3 dhclWg\" data-testid=\"card-headline\">South Africa's WW1 servicemen finally honoured at new memorial<!-- --></h2>,\n",
       " <h2 class=\"sc-8ea7699c-3 dhclWg\" data-testid=\"card-headline\">Children among dead as Turkey hotel fire investigation continues<!-- --></h2>,\n",
       " <h2 class=\"sc-7a382a26-4 gQxUVz\" data-testid=\"nevada-title\">Trump returns to power<!-- --></h2>,\n",
       " <h2 class=\"sc-8ea7699c-3 dhclWg\" data-testid=\"card-headline\">Trump puts all US government diversity staff on paid leave 'immediately'<!-- --></h2>,\n",
       " <h2 class=\"sc-8ea7699c-3 dhclWg\" data-testid=\"card-headline\">Six Trump executive orders to watch<!-- --></h2>,\n",
       " <h2 class=\"sc-8ea7699c-3 dhclWg\" data-testid=\"card-headline\">Trump pardons Silk Road dark web market creator Ross Ulbricht<!-- --></h2>,\n",
       " <h2 class=\"sc-8ea7699c-3 dhclWg\" data-testid=\"card-headline\">What Trump has done since taking power<!-- --></h2>,\n",
       " <h2 class=\"sc-8ea7699c-3 dhclWg\" data-testid=\"card-headline\">Tech giants announce $500bn 'Stargate' AI plan in US<!-- --></h2>,\n",
       " <h2 class=\"sc-7a382a26-4 gQxUVz\" data-testid=\"virginia-title\">More to explore<!-- --></h2>,\n",
       " <h2 class=\"sc-8ea7699c-3 kwWByH\" data-testid=\"card-headline\">'A long fight full of tears': Why Thailand became a haven for LGBT couples<!-- --></h2>,\n",
       " <h2 class=\"sc-8ea7699c-3 dhclWg\" data-testid=\"card-headline\">Has Prince Harry got what he wanted after tabloid apology?<!-- --></h2>,\n",
       " <h2 class=\"sc-8ea7699c-3 dhclWg\" data-testid=\"card-headline\">Teddy Swims: 'Every day I try to cry a little bit'<!-- --></h2>,\n",
       " <h2 class=\"sc-8ea7699c-3 dhclWg\" data-testid=\"card-headline\">War clinics in Ukraine witness sharp rise in drug-resistant infections<!-- --></h2>,\n",
       " <h2 class=\"sc-8ea7699c-3 dhclWg\" data-testid=\"card-headline\">'Hell on earth': China deportation looms for Uyghurs held in Thailand<!-- --></h2>,\n",
       " <h2 class=\"sc-8ea7699c-3 dhclWg\" data-testid=\"card-headline\">Has Prince Harry got what he wanted after tabloid apology?<!-- --></h2>,\n",
       " <h2 class=\"sc-8ea7699c-3 dhclWg\" data-testid=\"card-headline\">Her aunt's regime 'disappeared' people in Bangladesh - so why did Starmer make her a minister?<!-- --></h2>,\n",
       " <h2 class=\"sc-8ea7699c-3 dhclWg\" data-testid=\"card-headline\">Does China 'operate' Panama Canal, as Trump says?<!-- --></h2>,\n",
       " <h2 class=\"sc-8ea7699c-3 dhclWg\" data-testid=\"card-headline\">What led to hotel fire disaster at Turkish ski resort?<!-- --></h2>,\n",
       " <h2 class=\"sc-8ea7699c-3 dhclWg\" data-testid=\"card-headline\">Teddy Swims: 'Every day I try to cry a little bit'<!-- --></h2>,\n",
       " <h2 class=\"sc-7a382a26-4 gQxUVz\" data-testid=\"illinois-title\">Most watched<!-- --></h2>,\n",
       " <h2 class=\"sc-8ea7699c-3 igpHQe\" data-testid=\"card-headline\">Snow flurries are rare in US south – now a blizzard has hit<!-- --></h2>,\n",
       " <h2 class=\"sc-8ea7699c-3 igpHQe\" data-testid=\"card-headline\">Bishop asks Trump to show mercy to LGBT people and migrants <!-- --></h2>,\n",
       " <h2 class=\"sc-8ea7699c-3 igpHQe\" data-testid=\"card-headline\">BBC Verify: Can Donald Trump really rename the Gulf of Mexico?<!-- --></h2>,\n",
       " <h2 class=\"sc-8ea7699c-3 igpHQe\" data-testid=\"card-headline\">Trump 'not confident' Israel-Gaza ceasefire will hold<!-- --></h2>,\n",
       " <h2 class=\"sc-8ea7699c-3 igpHQe\" data-testid=\"card-headline\">Iconic Bourbon Street in New Orleans covered in rare snow<!-- --></h2>,\n",
       " <h2 class=\"sc-7a382a26-4 gQxUVz\" data-testid=\"illinois-title\">Most read<!-- --></h2>,\n",
       " <h2 class=\"sc-8ea7699c-3 igpHQe\" data-testid=\"card-headline\">Trump puts all US government diversity staff on paid leave 'immediately'<!-- --></h2>,\n",
       " <h2 class=\"sc-8ea7699c-3 igpHQe\" data-testid=\"card-headline\">Trump pardons Silk Road dark web market creator Ross Ulbricht<!-- --></h2>,\n",
       " <h2 class=\"sc-8ea7699c-3 igpHQe\" data-testid=\"card-headline\">Convicted US Capitol rioter turns down Trump pardon<!-- --></h2>,\n",
       " <h2 class=\"sc-8ea7699c-3 igpHQe\" data-testid=\"card-headline\">Trump moves to expand 'fast-track' deportations  <!-- --></h2>,\n",
       " <h2 class=\"sc-8ea7699c-3 igpHQe\" data-testid=\"card-headline\">All porn sites must 'robustly' verify UK user ages by July<!-- --></h2>,\n",
       " <h2 class=\"sc-8ea7699c-3 igpHQe\" data-testid=\"card-headline\">India court orders seizure of 'offensive' MF Husain paintings<!-- --></h2>,\n",
       " <h2 class=\"sc-8ea7699c-3 igpHQe\" data-testid=\"card-headline\">Six Trump executive orders to watch<!-- --></h2>,\n",
       " <h2 class=\"sc-8ea7699c-3 igpHQe\" data-testid=\"card-headline\">Boy, 12, killed in stabbing was 'adored'<!-- --></h2>,\n",
       " <h2 class=\"sc-8ea7699c-3 igpHQe\" data-testid=\"card-headline\">Thousands await stinky plant's rare bloom<!-- --></h2>,\n",
       " <h2 class=\"sc-8ea7699c-3 igpHQe\" data-testid=\"card-headline\">UK warns Putin after Russian spy ship returns to British waters<!-- --></h2>,\n",
       " <h2 class=\"sc-7a382a26-4 gQxUVz\" data-testid=\"virginia-title\">Also in news<!-- --></h2>,\n",
       " <h2 class=\"sc-8ea7699c-3 kwWByH\" data-testid=\"card-headline\">Thousands await stinky plant's rare bloom<!-- --></h2>,\n",
       " <h2 class=\"sc-8ea7699c-3 dhclWg\" data-testid=\"card-headline\">Yemen's Houthis release crew of seized cargo ship Galaxy Leader<!-- --></h2>,\n",
       " <h2 class=\"sc-8ea7699c-3 dhclWg\" data-testid=\"card-headline\">Italy releases Libyan wanted for alleged war crimes<!-- --></h2>,\n",
       " <h2 class=\"sc-8ea7699c-3 dhclWg\" data-testid=\"card-headline\">Ten Palestinians killed as Israeli forces launch major operation in Jenin<!-- --></h2>,\n",
       " <h2 class=\"sc-8ea7699c-3 dhclWg\" data-testid=\"card-headline\">Cat makes three flights in 24 hours after being left on plane<!-- --></h2>,\n",
       " <h2 class=\"sc-8ea7699c-3 dhclWg\" data-testid=\"card-headline\">Yemen's Houthis release crew of seized cargo ship Galaxy Leader<!-- --></h2>,\n",
       " <h2 class=\"sc-8ea7699c-3 dhclWg\" data-testid=\"card-headline\">Mystery balls on Sydney beaches found to contain faecal bacteria<!-- --></h2>,\n",
       " <h2 class=\"sc-8ea7699c-3 dhclWg\" data-testid=\"card-headline\">'A living hell': Sudanese women face rape and abuse in Libya<!-- --></h2>,\n",
       " <h2 class=\"sc-8ea7699c-3 dhclWg\" data-testid=\"card-headline\">Italy releases Libyan wanted for alleged war crimes<!-- --></h2>,\n",
       " <h2 class=\"sc-7a382a26-4 gQxUVz\" data-testid=\"virginia-title\">Sport<!-- --></h2>,\n",
       " <h2 class=\"sc-8ea7699c-3 kwWByH\" data-testid=\"card-headline\">England's new era begins with heavy India defeat<!-- --></h2>,\n",
       " <h2 class=\"sc-8ea7699c-3 dhclWg\" data-testid=\"card-headline\">Sinner dismisses health fears to reach semis <!-- --></h2>,\n",
       " <h2 class=\"sc-8ea7699c-3 dhclWg\" data-testid=\"card-headline\">IBA asks Trump to 'look into' 2028 Olympics omission<!-- --></h2>,\n",
       " <h2 class=\"sc-8ea7699c-3 dhclWg\" data-testid=\"card-headline\">Norris 'ready to bring the fight to everyone'<!-- --></h2>,\n",
       " <h2 class=\"sc-8ea7699c-3 dhclWg\" data-testid=\"card-headline\">Sabalenka &amp; Badosa put friendship aside for semi-finals<!-- --></h2>,\n",
       " <h2 class=\"sc-8ea7699c-3 dhclWg\" data-testid=\"card-headline\">Sinner dismisses health fears to reach semis <!-- --></h2>,\n",
       " <h2 class=\"sc-8ea7699c-3 dhclWg\" data-testid=\"card-headline\">Hamilton has first test in Ferrari F1 car at Fiorano<!-- --></h2>,\n",
       " <h2 class=\"sc-8ea7699c-3 dhclWg\" data-testid=\"card-headline\">'I was waiting for VAR' - Swiatek controversy reignites video debate<!-- --></h2>,\n",
       " <h2 class=\"sc-8ea7699c-3 dhclWg\" data-testid=\"card-headline\">IBA asks Trump to 'look into' 2028 Olympics omission<!-- --></h2>,\n",
       " <h2 class=\"sc-97754ce7-1 friRUH\">Follow BBC on:</h2>]"
      ]
     },
     "execution_count": 26,
     "metadata": {},
     "output_type": "execute_result"
    }
   ],
   "source": [
    "data = soup.find_all('h2')\n",
    "data"
   ]
  },
  {
   "cell_type": "code",
   "execution_count": 27,
   "metadata": {},
   "outputs": [
    {
     "data": {
      "text/plain": [
       "['Trump urges Putin to end ‘ridiculous’ Ukraine war or face new sanctions',\n",
       " \"Trump moves to expand 'fast-track' deportations\",\n",
       " \"UK tabloid owner to pay Prince Harry 'substantial' damages\",\n",
       " 'Toddler and man fatally stabbed in German park - Afghan man held',\n",
       " 'Eleven killed after passengers fleeing rumours of fire were hit by another train',\n",
       " \"Trump moves to expand 'fast-track' deportations\",\n",
       " 'Convicted US Capitol rioter turns down Trump pardon',\n",
       " 'About 1,000 North Koreans killed fighting Ukraine in Kursk, officials say',\n",
       " \"India court orders seizure of 'offensive' MF Husain paintings\",\n",
       " \"UK tabloid owner to pay Prince Harry 'substantial' damages\",\n",
       " 'Acting or harassment? It Ends With Us stars at odds over out-takes',\n",
       " 'Elephants are not people, US court rules',\n",
       " 'S Korea to remove concrete barriers near runways after fatal crash',\n",
       " \"South Africa's WW1 servicemen finally honoured at new memorial\",\n",
       " 'Children among dead as Turkey hotel fire investigation continues',\n",
       " 'Trump returns to power',\n",
       " \"Trump puts all US government diversity staff on paid leave 'immediately'\",\n",
       " 'Six Trump executive orders to watch',\n",
       " 'Trump pardons Silk Road dark web market creator Ross Ulbricht',\n",
       " 'What Trump has done since taking power',\n",
       " \"Tech giants announce $500bn 'Stargate' AI plan in US\",\n",
       " 'More to explore',\n",
       " \"'A long fight full of tears': Why Thailand became a haven for LGBT couples\",\n",
       " 'Has Prince Harry got what he wanted after tabloid apology?',\n",
       " \"Teddy Swims: 'Every day I try to cry a little bit'\",\n",
       " 'War clinics in Ukraine witness sharp rise in drug-resistant infections',\n",
       " \"'Hell on earth': China deportation looms for Uyghurs held in Thailand\",\n",
       " 'Has Prince Harry got what he wanted after tabloid apology?',\n",
       " \"Her aunt's regime 'disappeared' people in Bangladesh - so why did Starmer make her a minister?\",\n",
       " \"Does China 'operate' Panama Canal, as Trump says?\",\n",
       " 'What led to hotel fire disaster at Turkish ski resort?',\n",
       " \"Teddy Swims: 'Every day I try to cry a little bit'\",\n",
       " 'Most watched',\n",
       " 'Snow flurries are rare in US south – now a blizzard has hit',\n",
       " 'Bishop asks Trump to show mercy to LGBT people and migrants',\n",
       " 'BBC Verify: Can Donald Trump really rename the Gulf of Mexico?',\n",
       " \"Trump 'not confident' Israel-Gaza ceasefire will hold\",\n",
       " 'Iconic Bourbon Street in New Orleans covered in rare snow',\n",
       " 'Most read',\n",
       " \"Trump puts all US government diversity staff on paid leave 'immediately'\",\n",
       " 'Trump pardons Silk Road dark web market creator Ross Ulbricht',\n",
       " 'Convicted US Capitol rioter turns down Trump pardon',\n",
       " \"Trump moves to expand 'fast-track' deportations\",\n",
       " \"All porn sites must 'robustly' verify UK user ages by July\",\n",
       " \"India court orders seizure of 'offensive' MF Husain paintings\",\n",
       " 'Six Trump executive orders to watch',\n",
       " \"Boy, 12, killed in stabbing was 'adored'\",\n",
       " \"Thousands await stinky plant's rare bloom\",\n",
       " 'UK warns Putin after Russian spy ship returns to British waters',\n",
       " 'Also in news',\n",
       " \"Thousands await stinky plant's rare bloom\",\n",
       " \"Yemen's Houthis release crew of seized cargo ship Galaxy Leader\",\n",
       " 'Italy releases Libyan wanted for alleged war crimes',\n",
       " 'Ten Palestinians killed as Israeli forces launch major operation in Jenin',\n",
       " 'Cat makes three flights in 24 hours after being left on plane',\n",
       " \"Yemen's Houthis release crew of seized cargo ship Galaxy Leader\",\n",
       " 'Mystery balls on Sydney beaches found to contain faecal bacteria',\n",
       " \"'A living hell': Sudanese women face rape and abuse in Libya\",\n",
       " 'Italy releases Libyan wanted for alleged war crimes',\n",
       " 'Sport',\n",
       " \"England's new era begins with heavy India defeat\",\n",
       " 'Sinner dismisses health fears to reach semis',\n",
       " \"IBA asks Trump to 'look into' 2028 Olympics omission\",\n",
       " \"Norris 'ready to bring the fight to everyone'\",\n",
       " 'Sabalenka & Badosa put friendship aside for semi-finals',\n",
       " 'Sinner dismisses health fears to reach semis',\n",
       " 'Hamilton has first test in Ferrari F1 car at Fiorano',\n",
       " \"'I was waiting for VAR' - Swiatek controversy reignites video debate\",\n",
       " \"IBA asks Trump to 'look into' 2028 Olympics omission\",\n",
       " 'Follow BBC on:']"
      ]
     },
     "execution_count": 27,
     "metadata": {},
     "output_type": "execute_result"
    }
   ],
   "source": [
    "headlines = [tag.text.strip() for tag in data]\n",
    "headlines\n"
   ]
  },
  {
   "cell_type": "code",
   "execution_count": 72,
   "metadata": {},
   "outputs": [
    {
     "name": "stdout",
     "output_type": "stream",
     "text": [
      "reuters_class\n",
      "reuters News Headlines\n",
      "yes\n",
      "text__text__1FZLe text__inherit-color__3208F text__bold__2-8Kc text__heading_6__1qUJ5 heading__base__2T28j heading__heading_6_bold__1Kge5 title__heading__s7Jan\n"
     ]
    }
   ],
   "source": [
    "urls = ['https://www.bbc.com/news', 'https://edition.cnn.com/', 'https://www.reuters.com/']\n",
    "classes = {'cnn_class': 'container__headline-text', 'reuters_class': 'text__text__1FZLe text__inherit-color__3208F text__bold__2-8Kc text__heading_6__1qUJ5 heading__base__2T28j heading__heading_6_bold__1Kge5 title__heading__s7Jan'}\n",
    "cnn_class = 'container__headline-text'\n",
    "reuters_class = 'text__text__1FZLe text__inherit-color__3208F text__bold__2-8Kc text__heading_6__1qUJ5 heading__base__2T28j heading__heading_6_bold__1Kge5 title__heading__s7Jan'\n",
    "def news_headings(data):\n",
    "    class_ = f'{data}_class'\n",
    "    print(class_)\n",
    "    print(f\"{data} News Headlines\")\n",
    "    for news in urls:\n",
    "        name = f'{data}.com'\n",
    "        if name in news:\n",
    "            response = requests.get(news)\n",
    "            soup = BeautifulSoup(response.text, 'html.parser')\n",
    "            if class_ in classes.keys():\n",
    "                    print(\"yes\")\n",
    "                    data = soup.find_all('span', class_ = classes[class_])\n",
    "                    print(classes[class_])\n",
    "                    headlines = [news.text.strip() for news in data]\n",
    "                    for i in headlines:\n",
    "                        print(i)\n",
    "            elif soup.find_all('h2'):\n",
    "                data = soup.find_all('h2')\n",
    "                headlines = [news.text.strip() for news in data]\n",
    "                for i in headlines:\n",
    "                     print(i)\n",
    "            else:\n",
    "                print(\"Data is Not Stored.\")\n",
    "\n",
    "news_headings(input(\"\"))\n",
    "    "
   ]
  },
  {
   "cell_type": "code",
   "execution_count": 29,
   "metadata": {},
   "outputs": [
    {
     "name": "stdout",
     "output_type": "stream",
     "text": [
      "['https://www.bbc.com/news', 'https://edition.cnn.com/', 'https://www.reuters.com/']\n"
     ]
    }
   ],
   "source": [
    "print(urls)"
   ]
  },
  {
   "cell_type": "code",
   "execution_count": 61,
   "metadata": {},
   "outputs": [
    {
     "data": {
      "text/plain": [
       "'container__headline-text'"
      ]
     },
     "execution_count": 61,
     "metadata": {},
     "output_type": "execute_result"
    }
   ],
   "source": [
    "cnn_class"
   ]
  },
  {
   "cell_type": "code",
   "execution_count": 75,
   "metadata": {},
   "outputs": [
    {
     "name": "stdout",
     "output_type": "stream",
     "text": [
      "[]\n"
     ]
    }
   ],
   "source": [
    "reuters_class = 'text__text__1FZLe text__inherit-color__3208F text__bold__2-8Kc text__heading_6__1qUJ5 heading__base__2T28j heading__heading_6_bold__1Kge5 title__heading__s7Jan'\n",
    "response = requests.get('https://www.reuters.com/')\n",
    "soup = BeautifulSoup(response.text, 'html')\n",
    "data = soup.find_all('span', class_ = 'text__text__1FZLe text__inherit-color__3208F text__bold__2-8Kc text__heading_6__1qUJ5 heading__base__2T28j heading__heading_6_bold__1Kge5 title__heading__s7Jan')\n",
    "print(data)"
   ]
  },
  {
   "cell_type": "code",
   "execution_count": 2,
   "metadata": {},
   "outputs": [
    {
     "name": "stdout",
     "output_type": "stream",
     "text": [
      "Requirement already satisfied: selenium in c:\\users\\galla\\anaconda3\\lib\\site-packages (4.28.0)\n",
      "Requirement already satisfied: urllib3<3,>=1.26 in c:\\users\\galla\\anaconda3\\lib\\site-packages (from urllib3[socks]<3,>=1.26->selenium) (2.2.3)\n",
      "Requirement already satisfied: trio~=0.17 in c:\\users\\galla\\anaconda3\\lib\\site-packages (from selenium) (0.28.0)\n",
      "Requirement already satisfied: trio-websocket~=0.9 in c:\\users\\galla\\anaconda3\\lib\\site-packages (from selenium) (0.11.1)\n",
      "Requirement already satisfied: certifi>=2021.10.8 in c:\\users\\galla\\anaconda3\\lib\\site-packages (from selenium) (2024.12.14)\n",
      "Requirement already satisfied: typing_extensions~=4.9 in c:\\users\\galla\\anaconda3\\lib\\site-packages (from selenium) (4.11.0)\n",
      "Requirement already satisfied: websocket-client~=1.8 in c:\\users\\galla\\anaconda3\\lib\\site-packages (from selenium) (1.8.0)\n",
      "Requirement already satisfied: attrs>=23.2.0 in c:\\users\\galla\\anaconda3\\lib\\site-packages (from trio~=0.17->selenium) (24.3.0)\n",
      "Requirement already satisfied: sortedcontainers in c:\\users\\galla\\anaconda3\\lib\\site-packages (from trio~=0.17->selenium) (2.4.0)\n",
      "Requirement already satisfied: idna in c:\\users\\galla\\anaconda3\\lib\\site-packages (from trio~=0.17->selenium) (3.7)\n",
      "Requirement already satisfied: outcome in c:\\users\\galla\\anaconda3\\lib\\site-packages (from trio~=0.17->selenium) (1.3.0.post0)\n",
      "Requirement already satisfied: sniffio>=1.3.0 in c:\\users\\galla\\anaconda3\\lib\\site-packages (from trio~=0.17->selenium) (1.3.0)\n",
      "Requirement already satisfied: cffi>=1.14 in c:\\users\\galla\\anaconda3\\lib\\site-packages (from trio~=0.17->selenium) (1.17.1)\n",
      "Requirement already satisfied: wsproto>=0.14 in c:\\users\\galla\\anaconda3\\lib\\site-packages (from trio-websocket~=0.9->selenium) (1.2.0)\n",
      "Requirement already satisfied: pysocks!=1.5.7,<2.0,>=1.5.6 in c:\\users\\galla\\anaconda3\\lib\\site-packages (from urllib3[socks]<3,>=1.26->selenium) (1.7.1)\n",
      "Requirement already satisfied: pycparser in c:\\users\\galla\\anaconda3\\lib\\site-packages (from cffi>=1.14->trio~=0.17->selenium) (2.21)\n",
      "Requirement already satisfied: h11<1,>=0.9.0 in c:\\users\\galla\\anaconda3\\lib\\site-packages (from wsproto>=0.14->trio-websocket~=0.9->selenium) (0.14.0)\n",
      "Note: you may need to restart the kernel to use updated packages.\n"
     ]
    },
    {
     "name": "stderr",
     "output_type": "stream",
     "text": [
      "WARNING: Ignoring invalid distribution ~atplotlib (c:\\Users\\galla\\anaconda3\\Lib\\site-packages)\n",
      "WARNING: Ignoring invalid distribution ~atplotlib (c:\\Users\\galla\\anaconda3\\Lib\\site-packages)\n",
      "WARNING: Ignoring invalid distribution ~atplotlib (c:\\Users\\galla\\anaconda3\\Lib\\site-packages)\n"
     ]
    }
   ],
   "source": [
    "pip install selenium"
   ]
  },
  {
   "cell_type": "code",
   "execution_count": 3,
   "metadata": {},
   "outputs": [
    {
     "ename": "WebDriverException",
     "evalue": "Message: unknown error: cannot determine loading status\nfrom target frame detached: received Inspector.detached event\n  (Session info: chrome=131.0.6778.265)\nStacktrace:\n\tGetHandleVerifier [0x00007FF7830780D5+2992373]\n\t(No symbol) [0x00007FF782D0BFD0]\n\t(No symbol) [0x00007FF782BA590A]\n\t(No symbol) [0x00007FF782B950D1]\n\t(No symbol) [0x00007FF782B93EE6]\n\t(No symbol) [0x00007FF782B9371D]\n\t(No symbol) [0x00007FF782B9363A]\n\t(No symbol) [0x00007FF782B91251]\n\t(No symbol) [0x00007FF782B91CFF]\n\t(No symbol) [0x00007FF782BA1257]\n\t(No symbol) [0x00007FF782BB4A9D]\n\t(No symbol) [0x00007FF782BBB26A]\n\t(No symbol) [0x00007FF782B92464]\n\t(No symbol) [0x00007FF782BB45EA]\n\t(No symbol) [0x00007FF782C3F8CB]\n\t(No symbol) [0x00007FF782C1F113]\n\t(No symbol) [0x00007FF782BEA918]\n\t(No symbol) [0x00007FF782BEBA81]\n\tGetHandleVerifier [0x00007FF7830D6A2D+3379789]\n\tGetHandleVerifier [0x00007FF7830EC32D+3468109]\n\tGetHandleVerifier [0x00007FF7830E0043+3418211]\n\tGetHandleVerifier [0x00007FF782E6C78B+847787]\n\t(No symbol) [0x00007FF782D1757F]\n\t(No symbol) [0x00007FF782D12FC4]\n\t(No symbol) [0x00007FF782D1315D]\n\t(No symbol) [0x00007FF782D02979]\n\tBaseThreadInitThunk [0x00007FFAE7C7E8D7+23]\n\tRtlUserThreadStart [0x00007FFAE9D3FBCC+44]\n",
     "output_type": "error",
     "traceback": [
      "\u001b[1;31m---------------------------------------------------------------------------\u001b[0m",
      "\u001b[1;31mWebDriverException\u001b[0m                        Traceback (most recent call last)",
      "Cell \u001b[1;32mIn[3], line 6\u001b[0m\n\u001b[0;32m      4\u001b[0m \u001b[38;5;66;03m# Set up the Selenium WebDriver\u001b[39;00m\n\u001b[0;32m      5\u001b[0m driver \u001b[38;5;241m=\u001b[39m webdriver\u001b[38;5;241m.\u001b[39mChrome()  \u001b[38;5;66;03m# or use another browser driver\u001b[39;00m\n\u001b[1;32m----> 6\u001b[0m driver\u001b[38;5;241m.\u001b[39mget(\u001b[38;5;124m\"\u001b[39m\u001b[38;5;124mhttps://www.reuters.com/\u001b[39m\u001b[38;5;124m\"\u001b[39m)\n\u001b[0;32m      8\u001b[0m \u001b[38;5;66;03m# Get the rendered HTML\u001b[39;00m\n\u001b[0;32m      9\u001b[0m html \u001b[38;5;241m=\u001b[39m driver\u001b[38;5;241m.\u001b[39mpage_source\n",
      "File \u001b[1;32mc:\\Users\\galla\\anaconda3\\Lib\\site-packages\\selenium\\webdriver\\remote\\webdriver.py:454\u001b[0m, in \u001b[0;36mWebDriver.get\u001b[1;34m(self, url)\u001b[0m\n\u001b[0;32m    436\u001b[0m \u001b[38;5;28;01mdef\u001b[39;00m \u001b[38;5;21mget\u001b[39m(\u001b[38;5;28mself\u001b[39m, url: \u001b[38;5;28mstr\u001b[39m) \u001b[38;5;241m-\u001b[39m\u001b[38;5;241m>\u001b[39m \u001b[38;5;28;01mNone\u001b[39;00m:\n\u001b[0;32m    437\u001b[0m \u001b[38;5;250m    \u001b[39m\u001b[38;5;124;03m\"\"\"Navigate the browser to the specified URL in the current window or\u001b[39;00m\n\u001b[0;32m    438\u001b[0m \u001b[38;5;124;03m    tab.\u001b[39;00m\n\u001b[0;32m    439\u001b[0m \n\u001b[1;32m   (...)\u001b[0m\n\u001b[0;32m    452\u001b[0m \u001b[38;5;124;03m    >>> driver.get(\"https://example.com\")\u001b[39;00m\n\u001b[0;32m    453\u001b[0m \u001b[38;5;124;03m    \"\"\"\u001b[39;00m\n\u001b[1;32m--> 454\u001b[0m     \u001b[38;5;28mself\u001b[39m\u001b[38;5;241m.\u001b[39mexecute(Command\u001b[38;5;241m.\u001b[39mGET, {\u001b[38;5;124m\"\u001b[39m\u001b[38;5;124murl\u001b[39m\u001b[38;5;124m\"\u001b[39m: url})\n",
      "File \u001b[1;32mc:\\Users\\galla\\anaconda3\\Lib\\site-packages\\selenium\\webdriver\\remote\\webdriver.py:429\u001b[0m, in \u001b[0;36mWebDriver.execute\u001b[1;34m(self, driver_command, params)\u001b[0m\n\u001b[0;32m    427\u001b[0m response \u001b[38;5;241m=\u001b[39m \u001b[38;5;28mself\u001b[39m\u001b[38;5;241m.\u001b[39mcommand_executor\u001b[38;5;241m.\u001b[39mexecute(driver_command, params)\n\u001b[0;32m    428\u001b[0m \u001b[38;5;28;01mif\u001b[39;00m response:\n\u001b[1;32m--> 429\u001b[0m     \u001b[38;5;28mself\u001b[39m\u001b[38;5;241m.\u001b[39merror_handler\u001b[38;5;241m.\u001b[39mcheck_response(response)\n\u001b[0;32m    430\u001b[0m     response[\u001b[38;5;124m\"\u001b[39m\u001b[38;5;124mvalue\u001b[39m\u001b[38;5;124m\"\u001b[39m] \u001b[38;5;241m=\u001b[39m \u001b[38;5;28mself\u001b[39m\u001b[38;5;241m.\u001b[39m_unwrap_value(response\u001b[38;5;241m.\u001b[39mget(\u001b[38;5;124m\"\u001b[39m\u001b[38;5;124mvalue\u001b[39m\u001b[38;5;124m\"\u001b[39m, \u001b[38;5;28;01mNone\u001b[39;00m))\n\u001b[0;32m    431\u001b[0m     \u001b[38;5;28;01mreturn\u001b[39;00m response\n",
      "File \u001b[1;32mc:\\Users\\galla\\anaconda3\\Lib\\site-packages\\selenium\\webdriver\\remote\\errorhandler.py:232\u001b[0m, in \u001b[0;36mErrorHandler.check_response\u001b[1;34m(self, response)\u001b[0m\n\u001b[0;32m    230\u001b[0m         alert_text \u001b[38;5;241m=\u001b[39m value[\u001b[38;5;124m\"\u001b[39m\u001b[38;5;124malert\u001b[39m\u001b[38;5;124m\"\u001b[39m]\u001b[38;5;241m.\u001b[39mget(\u001b[38;5;124m\"\u001b[39m\u001b[38;5;124mtext\u001b[39m\u001b[38;5;124m\"\u001b[39m)\n\u001b[0;32m    231\u001b[0m     \u001b[38;5;28;01mraise\u001b[39;00m exception_class(message, screen, stacktrace, alert_text)  \u001b[38;5;66;03m# type: ignore[call-arg]  # mypy is not smart enough here\u001b[39;00m\n\u001b[1;32m--> 232\u001b[0m \u001b[38;5;28;01mraise\u001b[39;00m exception_class(message, screen, stacktrace)\n",
      "\u001b[1;31mWebDriverException\u001b[0m: Message: unknown error: cannot determine loading status\nfrom target frame detached: received Inspector.detached event\n  (Session info: chrome=131.0.6778.265)\nStacktrace:\n\tGetHandleVerifier [0x00007FF7830780D5+2992373]\n\t(No symbol) [0x00007FF782D0BFD0]\n\t(No symbol) [0x00007FF782BA590A]\n\t(No symbol) [0x00007FF782B950D1]\n\t(No symbol) [0x00007FF782B93EE6]\n\t(No symbol) [0x00007FF782B9371D]\n\t(No symbol) [0x00007FF782B9363A]\n\t(No symbol) [0x00007FF782B91251]\n\t(No symbol) [0x00007FF782B91CFF]\n\t(No symbol) [0x00007FF782BA1257]\n\t(No symbol) [0x00007FF782BB4A9D]\n\t(No symbol) [0x00007FF782BBB26A]\n\t(No symbol) [0x00007FF782B92464]\n\t(No symbol) [0x00007FF782BB45EA]\n\t(No symbol) [0x00007FF782C3F8CB]\n\t(No symbol) [0x00007FF782C1F113]\n\t(No symbol) [0x00007FF782BEA918]\n\t(No symbol) [0x00007FF782BEBA81]\n\tGetHandleVerifier [0x00007FF7830D6A2D+3379789]\n\tGetHandleVerifier [0x00007FF7830EC32D+3468109]\n\tGetHandleVerifier [0x00007FF7830E0043+3418211]\n\tGetHandleVerifier [0x00007FF782E6C78B+847787]\n\t(No symbol) [0x00007FF782D1757F]\n\t(No symbol) [0x00007FF782D12FC4]\n\t(No symbol) [0x00007FF782D1315D]\n\t(No symbol) [0x00007FF782D02979]\n\tBaseThreadInitThunk [0x00007FFAE7C7E8D7+23]\n\tRtlUserThreadStart [0x00007FFAE9D3FBCC+44]\n"
     ]
    }
   ],
   "source": [
    "from selenium import webdriver\n",
    "from bs4 import BeautifulSoup\n",
    "\n",
    "# Set up the Selenium WebDriver\n",
    "driver = webdriver.Chrome()  # or use another browser driver\n",
    "driver.get(\"https://www.reuters.com/\")\n",
    "\n",
    "# Get the rendered HTML\n",
    "html = driver.page_source\n",
    "soup = BeautifulSoup(html, \"html.parser\")\n",
    "\n",
    "# Find the desired tags\n",
    "data = soup.find_all('span', class_='text__text__1FZLe text__inherit-color__3208F text__bold__2-8Kc text__heading_6__1qUJ5 heading__base__2T28j heading__heading_6_bold__1Kge5 title__heading__s7Jan')\n",
    "news = [new.text for new in data]\n",
    "for new in news:\n",
    "    print(new)\n",
    "\n",
    "# Close the browser\n",
    "driver.quit()\n"
   ]
  },
  {
   "cell_type": "code",
   "execution_count": null,
   "metadata": {},
   "outputs": [],
   "source": [
    "import requests\n",
    "from bs4 import BeautifulSoup\n",
    "\n",
    "urls = [\n",
    "    'https://www.bbc.com/news',\n",
    "    'https://edition.cnn.com/',\n",
    "    'https://www.reuters.com/'\n",
    "]\n",
    "classes = {\n",
    "    'cnn': 'container__headline-text',\n",
    "    'reuters': 'text__text__1FZLe text__inherit-color__3208F text__bold__2-8Kc text__heading_6__1qUJ5 heading__base__2T28j heading__heading_6_bold__1Kge5 title__heading__s7Jan'\n",
    "}\n",
    "\n",
    "def news_headings(source):\n",
    "    if source not in classes:\n",
    "        print(f\"Invalid source: {source}\")\n",
    "        return\n",
    "\n",
    "    print(f\"{source.capitalize()} News Headlines\")\n",
    "\n",
    "    for news_url in urls:\n",
    "        if source in news_url:\n",
    "            response = requests.get(news_url)\n",
    "            soup = BeautifulSoup(response.text, 'html.parser')\n",
    "\n",
    "            class_name = classes[source]\n",
    "\n",
    "            # Attempt to find elements with the specified class\n",
    "            data = soup.find_all('span', class_=class_name)\n",
    "            if data:\n",
    "                headlines = [item.text.strip() for item in data]\n",
    "                for headline in headlines:\n",
    "                    print(headline)\n",
    "            else:\n",
    "                print(f\"No headlines found for {source}. The content might be loaded dynamically.\")\n",
    "\n",
    "# Example usage\n",
    "news_headings(input(\"Enter news source (e.g., cnn, reuters): \").strip().lower())\n"
   ]
  }
 ],
 "metadata": {
  "kernelspec": {
   "display_name": "base",
   "language": "python",
   "name": "python3"
  },
  "language_info": {
   "codemirror_mode": {
    "name": "ipython",
    "version": 3
   },
   "file_extension": ".py",
   "mimetype": "text/x-python",
   "name": "python",
   "nbconvert_exporter": "python",
   "pygments_lexer": "ipython3",
   "version": "3.12.7"
  }
 },
 "nbformat": 4,
 "nbformat_minor": 2
}
