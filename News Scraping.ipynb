{
 "cells": [
  {
   "cell_type": "code",
   "execution_count": 2,
   "metadata": {},
   "outputs": [],
   "source": [
    "import requests\n",
    "from bs4 import BeautifulSoup"
   ]
  },
  {
   "cell_type": "code",
   "execution_count": 3,
   "metadata": {},
   "outputs": [],
   "source": [
    "urls = ['https://www.bbc.com/news', 'https://edition.cnn.com/', 'https://www.reuters.com/']"
   ]
  },
  {
   "cell_type": "code",
   "execution_count": 4,
   "metadata": {},
   "outputs": [],
   "source": [
    "url1 = 'https://www.bbc.com/news'\n",
    "url2 = 'https://edition.cnn.com/'\n",
    "url3 = 'https://www.reuters.com/'"
   ]
  },
  {
   "cell_type": "code",
   "execution_count": 5,
   "metadata": {},
   "outputs": [],
   "source": [
    "# bbc = h2\n",
    "cnn_class = 'container__headline-text'\n",
    "reuters_class = 'text__text__1FZLe text__inherit-color__3208F text__bold__2-8Kc text__heading_6__1qUJ5 heading__base__2T28j heading__heading_6_bold__1Kge5 title__heading__s7Jan'"
   ]
  },
  {
   "cell_type": "code",
   "execution_count": 6,
   "metadata": {},
   "outputs": [],
   "source": [
    "classes = ['cnn_class', 'reuters_class']"
   ]
  },
  {
   "cell_type": "code",
   "execution_count": 7,
   "metadata": {},
   "outputs": [],
   "source": [
    "def url_data(data):\n",
    "    print(f'{data} News Today.\\n')\n",
    "    "
   ]
  },
  {
   "cell_type": "code",
   "execution_count": 8,
   "metadata": {},
   "outputs": [
    {
     "data": {
      "text/plain": [
       "[<h2 class=\"sc-8ea7699c-3 kwWByH\" data-testid=\"card-headline\">Trump says EU tariffs will happen and UK is 'out of line' but deal 'can be worked out'<!-- --></h2>,\n",
       " <h2 class=\"sc-8ea7699c-3 dhclWg\" data-testid=\"card-headline\">Asian markets tumble as Trump's tariff war escalates<!-- --></h2>,\n",
       " <h2 class=\"sc-8ea7699c-3 dhclWg\" data-testid=\"card-headline\">Grammy Awards 2025: Beyoncé finally wins best album<!-- --></h2>,\n",
       " <h2 class=\"sc-8ea7699c-3 dhclWg\" data-testid=\"card-headline\">Rubio demands Panama 'reduce China influence' over canal<!-- --></h2>,\n",
       " <h2 class=\"sc-8ea7699c-3 dhclWg\" data-testid=\"card-headline\">Dying with dignity: Breaking the taboo around 'living wills' in India<!-- --></h2>,\n",
       " <h2 class=\"sc-8ea7699c-3 dhclWg\" data-testid=\"card-headline\">Asian markets tumble as Trump's tariff war escalates<!-- --></h2>,\n",
       " <h2 class=\"sc-8ea7699c-3 dhclWg\" data-testid=\"card-headline\">Crucial highway cut off as Australian floods worsen<!-- --></h2>,\n",
       " <h2 class=\"sc-8ea7699c-3 dhclWg\" data-testid=\"card-headline\">Meteor Garden: Taiwanese star Barbie Hsu dies at 48<!-- --></h2>,\n",
       " <h2 class=\"sc-8ea7699c-3 dhclWg\" data-testid=\"card-headline\">Chinese fashion giant Shein re-enters India five years after ban<!-- --></h2>,\n",
       " <h2 class=\"sc-8ea7699c-3 dhclWg\" data-testid=\"card-headline\">Grammy Awards 2025: Beyoncé finally wins best album<!-- --></h2>,\n",
       " <h2 class=\"sc-8ea7699c-3 dhclWg\" data-testid=\"card-headline\">Canadian fans boo US anthem as tariffs spur 'buy local' pledge<!-- --></h2>,\n",
       " <h2 class=\"sc-8ea7699c-3 dhclWg\" data-testid=\"card-headline\">'People are afraid': BBC visits DR Congo city under rebel control<!-- --></h2>,\n",
       " <h2 class=\"sc-8ea7699c-3 dhclWg\" data-testid=\"card-headline\">Spain's former football boss on trial over World Cup kiss<!-- --></h2>,\n",
       " <h2 class=\"sc-8ea7699c-3 dhclWg\" data-testid=\"card-headline\">Bill Gates has given away billions, but 'still has more to give'<!-- --></h2>,\n",
       " <h2 class=\"sc-8ea7699c-3 dhclWg\" data-testid=\"card-headline\">France prepares for trial of surgeon accused of abusing anaesthetised children<!-- --></h2>,\n",
       " <h2 class=\"sc-7a382a26-4 gQxUVz\" data-testid=\"virginia-title\">More to explore<!-- --></h2>,\n",
       " <h2 class=\"sc-8ea7699c-3 kwWByH\" data-testid=\"card-headline\">All the winners and nominees at the 2025 Grammy Awards<!-- --></h2>,\n",
       " <h2 class=\"sc-8ea7699c-3 dhclWg\" data-testid=\"card-headline\">Grammys red carpet in pictures<!-- --></h2>,\n",
       " <h2 class=\"sc-8ea7699c-3 dhclWg\" data-testid=\"card-headline\">'Genocide against Greenland': The country's dark history - and does it want Trump?<!-- --></h2>,\n",
       " <h2 class=\"sc-8ea7699c-3 dhclWg\" data-testid=\"card-headline\">Dying with dignity: Breaking the taboo around 'living wills' in India<!-- --></h2>,\n",
       " <h2 class=\"sc-8ea7699c-3 dhclWg\" data-testid=\"card-headline\">'I don't know how he survived', says freed Israeli hostage's niece<!-- --></h2>,\n",
       " <h2 class=\"sc-8ea7699c-3 dhclWg\" data-testid=\"card-headline\">Grammys red carpet in pictures<!-- --></h2>,\n",
       " <h2 class=\"sc-8ea7699c-3 dhclWg\" data-testid=\"card-headline\">Tax relief for Indian middle class - but will it boost economy?<!-- --></h2>,\n",
       " <h2 class=\"sc-8ea7699c-3 dhclWg\" data-testid=\"card-headline\">How LA fires devastation shaped this year's Grammys<!-- --></h2>,\n",
       " <h2 class=\"sc-8ea7699c-3 dhclWg\" data-testid=\"card-headline\">'Genocide against Greenland': The country's dark history - and does it want Trump?<!-- --></h2>,\n",
       " <h2 class=\"sc-7a382a26-4 gQxUVz\" data-testid=\"illinois-title\">Most watched<!-- --></h2>,\n",
       " <h2 class=\"sc-8ea7699c-3 igpHQe\" data-testid=\"card-headline\">Father of US Army Black Hawk crew chief 'knew it was him' in crash<!-- --></h2>,\n",
       " <h2 class=\"sc-8ea7699c-3 igpHQe\" data-testid=\"card-headline\">Watch: Punxsutawney Phil makes Groundhog Day weather prediction<!-- --></h2>,\n",
       " <h2 class=\"sc-8ea7699c-3 igpHQe\" data-testid=\"card-headline\">Doorbell cameras capture moment of Philadelphia jet crash<!-- --></h2>,\n",
       " <h2 class=\"sc-8ea7699c-3 igpHQe\" data-testid=\"card-headline\">Taunton woman is longest-serving KFC worker<!-- --></h2>,\n",
       " <h2 class=\"sc-8ea7699c-3 igpHQe\" data-testid=\"card-headline\">Kate stops royal car to greet three-year-old fan<!-- --></h2>,\n",
       " <h2 class=\"sc-7a382a26-4 gQxUVz\" data-testid=\"illinois-title\">Most read<!-- --></h2>,\n",
       " <h2 class=\"sc-8ea7699c-3 igpHQe\" data-testid=\"card-headline\">Meteor Garden: Taiwanese star Barbie Hsu dies at 48<!-- --></h2>,\n",
       " <h2 class=\"sc-8ea7699c-3 igpHQe\" data-testid=\"card-headline\">Asian markets tumble as Trump's tariff war escalates<!-- --></h2>,\n",
       " <h2 class=\"sc-8ea7699c-3 igpHQe\" data-testid=\"card-headline\">All the winners and nominees at the 2025 Grammy Awards<!-- --></h2>,\n",
       " <h2 class=\"sc-8ea7699c-3 igpHQe\" data-testid=\"card-headline\">Crucial highway cut off as Australian floods worsen<!-- --></h2>,\n",
       " <h2 class=\"sc-8ea7699c-3 igpHQe\" data-testid=\"card-headline\">Grammy Awards 2025: Beyoncé finally wins best album<!-- --></h2>,\n",
       " <h2 class=\"sc-8ea7699c-3 igpHQe\" data-testid=\"card-headline\">Rubio demands Panama 'reduce China influence' over canal<!-- --></h2>,\n",
       " <h2 class=\"sc-8ea7699c-3 igpHQe\" data-testid=\"card-headline\">Canadian fans boo US anthem as tariffs spur 'buy local' pledge<!-- --></h2>,\n",
       " <h2 class=\"sc-8ea7699c-3 igpHQe\" data-testid=\"card-headline\">Spain's former football boss on trial over World Cup kiss<!-- --></h2>,\n",
       " <h2 class=\"sc-8ea7699c-3 igpHQe\" data-testid=\"card-headline\">Dying with dignity: Breaking the taboo around 'living wills' in India<!-- --></h2>,\n",
       " <h2 class=\"sc-8ea7699c-3 igpHQe\" data-testid=\"card-headline\">Bill Gates has given away billions, but 'still has more to give'<!-- --></h2>,\n",
       " <h2 class=\"sc-7a382a26-4 gQxUVz\" data-testid=\"virginia-title\">Also in news<!-- --></h2>,\n",
       " <h2 class=\"sc-8ea7699c-3 kwWByH\" data-testid=\"card-headline\">Santorini on alert as tremors rattle Greek island<!-- --></h2>,\n",
       " <h2 class=\"sc-8ea7699c-3 dhclWg\" data-testid=\"card-headline\">'I fled Ukraine speaking basic English - now I'm off to Oxford University'<!-- --></h2>,\n",
       " <h2 class=\"sc-8ea7699c-3 dhclWg\" data-testid=\"card-headline\">UK law to crack down on AI-generated child sex abuse images<!-- --></h2>,\n",
       " <h2 class=\"sc-8ea7699c-3 dhclWg\" data-testid=\"card-headline\">Arsenal, PSG and Bayern urged to end Visit Rwanda deals<!-- --></h2>,\n",
       " <h2 class=\"sc-8ea7699c-3 dhclWg\" data-testid=\"card-headline\">Sri Lanka eases vehicle import ban, but can people afford a new car?<!-- --></h2>,\n",
       " <h2 class=\"sc-8ea7699c-3 dhclWg\" data-testid=\"card-headline\">'I fled Ukraine speaking basic English - now I'm off to Oxford University'<!-- --></h2>,\n",
       " <h2 class=\"sc-8ea7699c-3 dhclWg\" data-testid=\"card-headline\">Endangered frog dads travel 7,000 miles to 'give birth'<!-- --></h2>,\n",
       " <h2 class=\"sc-8ea7699c-3 dhclWg\" data-testid=\"card-headline\">Scenic loch becomes magnet for Scotland's plastic waste<!-- --></h2>,\n",
       " <h2 class=\"sc-8ea7699c-3 dhclWg\" data-testid=\"card-headline\">UK law to crack down on AI-generated child sex abuse images<!-- --></h2>,\n",
       " <h2 class=\"sc-7a382a26-4 gQxUVz\" data-testid=\"virginia-title\">Sport<!-- --></h2>,\n",
       " <h2 class=\"sc-8ea7699c-3 kwWByH\" data-testid=\"card-headline\">'Who are you?' Everyone knows who Lewis-Skelly is now<!-- --></h2>,\n",
       " <h2 class=\"sc-8ea7699c-3 dhclWg\" data-testid=\"card-headline\">'I just want to play football' - Rashford joins Villa on loan<!-- --></h2>,\n",
       " <h2 class=\"sc-8ea7699c-3 dhclWg\" data-testid=\"card-headline\">The painful divorce of Rashford and Manchester United<!-- --></h2>,\n",
       " <h2 class=\"sc-8ea7699c-3 dhclWg\" data-testid=\"card-headline\">Man Utd 'trying everything' to strengthen - but won't repeat 'mistakes'<!-- --></h2>,\n",
       " <h2 class=\"sc-8ea7699c-3 dhclWg\" data-testid=\"card-headline\">'The NBA is wild, man' - Lakers confirm Doncic trade<!-- --></h2>,\n",
       " <h2 class=\"sc-8ea7699c-3 dhclWg\" data-testid=\"card-headline\">'I just want to play football' - Rashford joins Villa on loan<!-- --></h2>,\n",
       " <h2 class=\"sc-8ea7699c-3 dhclWg\" data-testid=\"card-headline\">'Tenacity, endeavour, composure' - how Arsenal earned statement win<!-- --></h2>,\n",
       " <h2 class=\"sc-8ea7699c-3 dhclWg\" data-testid=\"card-headline\">'The perfect batter for his time' - meet India's latest record-breaker<!-- --></h2>,\n",
       " <h2 class=\"sc-8ea7699c-3 dhclWg\" data-testid=\"card-headline\">The painful divorce of Rashford and Manchester United<!-- --></h2>,\n",
       " <h2 class=\"sc-97754ce7-1 friRUH\">Follow BBC on:</h2>]"
      ]
     },
     "execution_count": 8,
     "metadata": {},
     "output_type": "execute_result"
    }
   ],
   "source": [
    "url1 = 'https://www.bbc.com/news'\n",
    "response = requests.get(url1)\n",
    "soup = BeautifulSoup(response.text, 'html.parser')\n",
    "soup.find_all('h2')"
   ]
  },
  {
   "cell_type": "code",
   "execution_count": 9,
   "metadata": {},
   "outputs": [
    {
     "data": {
      "text/plain": [
       "[<h2 class=\"sc-8ea7699c-3 kwWByH\" data-testid=\"card-headline\">Trump says EU tariffs will happen and UK is 'out of line' but deal 'can be worked out'<!-- --></h2>,\n",
       " <h2 class=\"sc-8ea7699c-3 dhclWg\" data-testid=\"card-headline\">Asian markets tumble as Trump's tariff war escalates<!-- --></h2>,\n",
       " <h2 class=\"sc-8ea7699c-3 dhclWg\" data-testid=\"card-headline\">Grammy Awards 2025: Beyoncé finally wins best album<!-- --></h2>,\n",
       " <h2 class=\"sc-8ea7699c-3 dhclWg\" data-testid=\"card-headline\">Rubio demands Panama 'reduce China influence' over canal<!-- --></h2>,\n",
       " <h2 class=\"sc-8ea7699c-3 dhclWg\" data-testid=\"card-headline\">Dying with dignity: Breaking the taboo around 'living wills' in India<!-- --></h2>,\n",
       " <h2 class=\"sc-8ea7699c-3 dhclWg\" data-testid=\"card-headline\">Asian markets tumble as Trump's tariff war escalates<!-- --></h2>,\n",
       " <h2 class=\"sc-8ea7699c-3 dhclWg\" data-testid=\"card-headline\">Crucial highway cut off as Australian floods worsen<!-- --></h2>,\n",
       " <h2 class=\"sc-8ea7699c-3 dhclWg\" data-testid=\"card-headline\">Meteor Garden: Taiwanese star Barbie Hsu dies at 48<!-- --></h2>,\n",
       " <h2 class=\"sc-8ea7699c-3 dhclWg\" data-testid=\"card-headline\">Chinese fashion giant Shein re-enters India five years after ban<!-- --></h2>,\n",
       " <h2 class=\"sc-8ea7699c-3 dhclWg\" data-testid=\"card-headline\">Grammy Awards 2025: Beyoncé finally wins best album<!-- --></h2>,\n",
       " <h2 class=\"sc-8ea7699c-3 dhclWg\" data-testid=\"card-headline\">Canadian fans boo US anthem as tariffs spur 'buy local' pledge<!-- --></h2>,\n",
       " <h2 class=\"sc-8ea7699c-3 dhclWg\" data-testid=\"card-headline\">'People are afraid': BBC visits DR Congo city under rebel control<!-- --></h2>,\n",
       " <h2 class=\"sc-8ea7699c-3 dhclWg\" data-testid=\"card-headline\">Spain's former football boss on trial over World Cup kiss<!-- --></h2>,\n",
       " <h2 class=\"sc-8ea7699c-3 dhclWg\" data-testid=\"card-headline\">Bill Gates has given away billions, but 'still has more to give'<!-- --></h2>,\n",
       " <h2 class=\"sc-8ea7699c-3 dhclWg\" data-testid=\"card-headline\">France prepares for trial of surgeon accused of abusing anaesthetised children<!-- --></h2>,\n",
       " <h2 class=\"sc-7a382a26-4 gQxUVz\" data-testid=\"virginia-title\">More to explore<!-- --></h2>,\n",
       " <h2 class=\"sc-8ea7699c-3 kwWByH\" data-testid=\"card-headline\">All the winners and nominees at the 2025 Grammy Awards<!-- --></h2>,\n",
       " <h2 class=\"sc-8ea7699c-3 dhclWg\" data-testid=\"card-headline\">Grammys red carpet in pictures<!-- --></h2>,\n",
       " <h2 class=\"sc-8ea7699c-3 dhclWg\" data-testid=\"card-headline\">'Genocide against Greenland': The country's dark history - and does it want Trump?<!-- --></h2>,\n",
       " <h2 class=\"sc-8ea7699c-3 dhclWg\" data-testid=\"card-headline\">Dying with dignity: Breaking the taboo around 'living wills' in India<!-- --></h2>,\n",
       " <h2 class=\"sc-8ea7699c-3 dhclWg\" data-testid=\"card-headline\">'I don't know how he survived', says freed Israeli hostage's niece<!-- --></h2>,\n",
       " <h2 class=\"sc-8ea7699c-3 dhclWg\" data-testid=\"card-headline\">Grammys red carpet in pictures<!-- --></h2>,\n",
       " <h2 class=\"sc-8ea7699c-3 dhclWg\" data-testid=\"card-headline\">Tax relief for Indian middle class - but will it boost economy?<!-- --></h2>,\n",
       " <h2 class=\"sc-8ea7699c-3 dhclWg\" data-testid=\"card-headline\">How LA fires devastation shaped this year's Grammys<!-- --></h2>,\n",
       " <h2 class=\"sc-8ea7699c-3 dhclWg\" data-testid=\"card-headline\">'Genocide against Greenland': The country's dark history - and does it want Trump?<!-- --></h2>,\n",
       " <h2 class=\"sc-7a382a26-4 gQxUVz\" data-testid=\"illinois-title\">Most watched<!-- --></h2>,\n",
       " <h2 class=\"sc-8ea7699c-3 igpHQe\" data-testid=\"card-headline\">Father of US Army Black Hawk crew chief 'knew it was him' in crash<!-- --></h2>,\n",
       " <h2 class=\"sc-8ea7699c-3 igpHQe\" data-testid=\"card-headline\">Watch: Punxsutawney Phil makes Groundhog Day weather prediction<!-- --></h2>,\n",
       " <h2 class=\"sc-8ea7699c-3 igpHQe\" data-testid=\"card-headline\">Doorbell cameras capture moment of Philadelphia jet crash<!-- --></h2>,\n",
       " <h2 class=\"sc-8ea7699c-3 igpHQe\" data-testid=\"card-headline\">Taunton woman is longest-serving KFC worker<!-- --></h2>,\n",
       " <h2 class=\"sc-8ea7699c-3 igpHQe\" data-testid=\"card-headline\">Kate stops royal car to greet three-year-old fan<!-- --></h2>,\n",
       " <h2 class=\"sc-7a382a26-4 gQxUVz\" data-testid=\"illinois-title\">Most read<!-- --></h2>,\n",
       " <h2 class=\"sc-8ea7699c-3 igpHQe\" data-testid=\"card-headline\">Meteor Garden: Taiwanese star Barbie Hsu dies at 48<!-- --></h2>,\n",
       " <h2 class=\"sc-8ea7699c-3 igpHQe\" data-testid=\"card-headline\">Asian markets tumble as Trump's tariff war escalates<!-- --></h2>,\n",
       " <h2 class=\"sc-8ea7699c-3 igpHQe\" data-testid=\"card-headline\">All the winners and nominees at the 2025 Grammy Awards<!-- --></h2>,\n",
       " <h2 class=\"sc-8ea7699c-3 igpHQe\" data-testid=\"card-headline\">Crucial highway cut off as Australian floods worsen<!-- --></h2>,\n",
       " <h2 class=\"sc-8ea7699c-3 igpHQe\" data-testid=\"card-headline\">Grammy Awards 2025: Beyoncé finally wins best album<!-- --></h2>,\n",
       " <h2 class=\"sc-8ea7699c-3 igpHQe\" data-testid=\"card-headline\">Rubio demands Panama 'reduce China influence' over canal<!-- --></h2>,\n",
       " <h2 class=\"sc-8ea7699c-3 igpHQe\" data-testid=\"card-headline\">Canadian fans boo US anthem as tariffs spur 'buy local' pledge<!-- --></h2>,\n",
       " <h2 class=\"sc-8ea7699c-3 igpHQe\" data-testid=\"card-headline\">Spain's former football boss on trial over World Cup kiss<!-- --></h2>,\n",
       " <h2 class=\"sc-8ea7699c-3 igpHQe\" data-testid=\"card-headline\">Dying with dignity: Breaking the taboo around 'living wills' in India<!-- --></h2>,\n",
       " <h2 class=\"sc-8ea7699c-3 igpHQe\" data-testid=\"card-headline\">Bill Gates has given away billions, but 'still has more to give'<!-- --></h2>,\n",
       " <h2 class=\"sc-7a382a26-4 gQxUVz\" data-testid=\"virginia-title\">Also in news<!-- --></h2>,\n",
       " <h2 class=\"sc-8ea7699c-3 kwWByH\" data-testid=\"card-headline\">Santorini on alert as tremors rattle Greek island<!-- --></h2>,\n",
       " <h2 class=\"sc-8ea7699c-3 dhclWg\" data-testid=\"card-headline\">'I fled Ukraine speaking basic English - now I'm off to Oxford University'<!-- --></h2>,\n",
       " <h2 class=\"sc-8ea7699c-3 dhclWg\" data-testid=\"card-headline\">UK law to crack down on AI-generated child sex abuse images<!-- --></h2>,\n",
       " <h2 class=\"sc-8ea7699c-3 dhclWg\" data-testid=\"card-headline\">Arsenal, PSG and Bayern urged to end Visit Rwanda deals<!-- --></h2>,\n",
       " <h2 class=\"sc-8ea7699c-3 dhclWg\" data-testid=\"card-headline\">Sri Lanka eases vehicle import ban, but can people afford a new car?<!-- --></h2>,\n",
       " <h2 class=\"sc-8ea7699c-3 dhclWg\" data-testid=\"card-headline\">'I fled Ukraine speaking basic English - now I'm off to Oxford University'<!-- --></h2>,\n",
       " <h2 class=\"sc-8ea7699c-3 dhclWg\" data-testid=\"card-headline\">Endangered frog dads travel 7,000 miles to 'give birth'<!-- --></h2>,\n",
       " <h2 class=\"sc-8ea7699c-3 dhclWg\" data-testid=\"card-headline\">Scenic loch becomes magnet for Scotland's plastic waste<!-- --></h2>,\n",
       " <h2 class=\"sc-8ea7699c-3 dhclWg\" data-testid=\"card-headline\">UK law to crack down on AI-generated child sex abuse images<!-- --></h2>,\n",
       " <h2 class=\"sc-7a382a26-4 gQxUVz\" data-testid=\"virginia-title\">Sport<!-- --></h2>,\n",
       " <h2 class=\"sc-8ea7699c-3 kwWByH\" data-testid=\"card-headline\">'Who are you?' Everyone knows who Lewis-Skelly is now<!-- --></h2>,\n",
       " <h2 class=\"sc-8ea7699c-3 dhclWg\" data-testid=\"card-headline\">'I just want to play football' - Rashford joins Villa on loan<!-- --></h2>,\n",
       " <h2 class=\"sc-8ea7699c-3 dhclWg\" data-testid=\"card-headline\">The painful divorce of Rashford and Manchester United<!-- --></h2>,\n",
       " <h2 class=\"sc-8ea7699c-3 dhclWg\" data-testid=\"card-headline\">Man Utd 'trying everything' to strengthen - but won't repeat 'mistakes'<!-- --></h2>,\n",
       " <h2 class=\"sc-8ea7699c-3 dhclWg\" data-testid=\"card-headline\">'The NBA is wild, man' - Lakers confirm Doncic trade<!-- --></h2>,\n",
       " <h2 class=\"sc-8ea7699c-3 dhclWg\" data-testid=\"card-headline\">'I just want to play football' - Rashford joins Villa on loan<!-- --></h2>,\n",
       " <h2 class=\"sc-8ea7699c-3 dhclWg\" data-testid=\"card-headline\">'Tenacity, endeavour, composure' - how Arsenal earned statement win<!-- --></h2>,\n",
       " <h2 class=\"sc-8ea7699c-3 dhclWg\" data-testid=\"card-headline\">'The perfect batter for his time' - meet India's latest record-breaker<!-- --></h2>,\n",
       " <h2 class=\"sc-8ea7699c-3 dhclWg\" data-testid=\"card-headline\">The painful divorce of Rashford and Manchester United<!-- --></h2>,\n",
       " <h2 class=\"sc-97754ce7-1 friRUH\">Follow BBC on:</h2>]"
      ]
     },
     "execution_count": 9,
     "metadata": {},
     "output_type": "execute_result"
    }
   ],
   "source": [
    "data = soup.find_all('h2')\n",
    "data"
   ]
  },
  {
   "cell_type": "code",
   "execution_count": 10,
   "metadata": {},
   "outputs": [
    {
     "data": {
      "text/plain": [
       "[\"Trump says EU tariffs will happen and UK is 'out of line' but deal 'can be worked out'\",\n",
       " \"Asian markets tumble as Trump's tariff war escalates\",\n",
       " 'Grammy Awards 2025: Beyoncé finally wins best album',\n",
       " \"Rubio demands Panama 'reduce China influence' over canal\",\n",
       " \"Dying with dignity: Breaking the taboo around 'living wills' in India\",\n",
       " \"Asian markets tumble as Trump's tariff war escalates\",\n",
       " 'Crucial highway cut off as Australian floods worsen',\n",
       " 'Meteor Garden: Taiwanese star Barbie Hsu dies at 48',\n",
       " 'Chinese fashion giant Shein re-enters India five years after ban',\n",
       " 'Grammy Awards 2025: Beyoncé finally wins best album',\n",
       " \"Canadian fans boo US anthem as tariffs spur 'buy local' pledge\",\n",
       " \"'People are afraid': BBC visits DR Congo city under rebel control\",\n",
       " \"Spain's former football boss on trial over World Cup kiss\",\n",
       " \"Bill Gates has given away billions, but 'still has more to give'\",\n",
       " 'France prepares for trial of surgeon accused of abusing anaesthetised children',\n",
       " 'More to explore',\n",
       " 'All the winners and nominees at the 2025 Grammy Awards',\n",
       " 'Grammys red carpet in pictures',\n",
       " \"'Genocide against Greenland': The country's dark history - and does it want Trump?\",\n",
       " \"Dying with dignity: Breaking the taboo around 'living wills' in India\",\n",
       " \"'I don't know how he survived', says freed Israeli hostage's niece\",\n",
       " 'Grammys red carpet in pictures',\n",
       " 'Tax relief for Indian middle class - but will it boost economy?',\n",
       " \"How LA fires devastation shaped this year's Grammys\",\n",
       " \"'Genocide against Greenland': The country's dark history - and does it want Trump?\",\n",
       " 'Most watched',\n",
       " \"Father of US Army Black Hawk crew chief 'knew it was him' in crash\",\n",
       " 'Watch: Punxsutawney Phil makes Groundhog Day weather prediction',\n",
       " 'Doorbell cameras capture moment of Philadelphia jet crash',\n",
       " 'Taunton woman is longest-serving KFC worker',\n",
       " 'Kate stops royal car to greet three-year-old fan',\n",
       " 'Most read',\n",
       " 'Meteor Garden: Taiwanese star Barbie Hsu dies at 48',\n",
       " \"Asian markets tumble as Trump's tariff war escalates\",\n",
       " 'All the winners and nominees at the 2025 Grammy Awards',\n",
       " 'Crucial highway cut off as Australian floods worsen',\n",
       " 'Grammy Awards 2025: Beyoncé finally wins best album',\n",
       " \"Rubio demands Panama 'reduce China influence' over canal\",\n",
       " \"Canadian fans boo US anthem as tariffs spur 'buy local' pledge\",\n",
       " \"Spain's former football boss on trial over World Cup kiss\",\n",
       " \"Dying with dignity: Breaking the taboo around 'living wills' in India\",\n",
       " \"Bill Gates has given away billions, but 'still has more to give'\",\n",
       " 'Also in news',\n",
       " 'Santorini on alert as tremors rattle Greek island',\n",
       " \"'I fled Ukraine speaking basic English - now I'm off to Oxford University'\",\n",
       " 'UK law to crack down on AI-generated child sex abuse images',\n",
       " 'Arsenal, PSG and Bayern urged to end Visit Rwanda deals',\n",
       " 'Sri Lanka eases vehicle import ban, but can people afford a new car?',\n",
       " \"'I fled Ukraine speaking basic English - now I'm off to Oxford University'\",\n",
       " \"Endangered frog dads travel 7,000 miles to 'give birth'\",\n",
       " \"Scenic loch becomes magnet for Scotland's plastic waste\",\n",
       " 'UK law to crack down on AI-generated child sex abuse images',\n",
       " 'Sport',\n",
       " \"'Who are you?' Everyone knows who Lewis-Skelly is now\",\n",
       " \"'I just want to play football' - Rashford joins Villa on loan\",\n",
       " 'The painful divorce of Rashford and Manchester United',\n",
       " \"Man Utd 'trying everything' to strengthen - but won't repeat 'mistakes'\",\n",
       " \"'The NBA is wild, man' - Lakers confirm Doncic trade\",\n",
       " \"'I just want to play football' - Rashford joins Villa on loan\",\n",
       " \"'Tenacity, endeavour, composure' - how Arsenal earned statement win\",\n",
       " \"'The perfect batter for his time' - meet India's latest record-breaker\",\n",
       " 'The painful divorce of Rashford and Manchester United',\n",
       " 'Follow BBC on:']"
      ]
     },
     "execution_count": 10,
     "metadata": {},
     "output_type": "execute_result"
    }
   ],
   "source": [
    "headlines = [tag.text.strip() for tag in data]\n",
    "headlines\n"
   ]
  },
  {
   "cell_type": "code",
   "execution_count": 18,
   "metadata": {},
   "outputs": [
    {
     "name": "stdout",
     "output_type": "stream",
     "text": [
      "cnn_class\n",
      "cnn News Headlines\n",
      "yes\n",
      "container__headline-text\n",
      "Trump tariffs\n",
      "2025 Grammy Awards red carpet\n",
      "Massive floods in Australia\n",
      "Blue Ghost lunar lander\n",
      "Overtourism in Japan\n",
      "Luka Doncic\n",
      "‘Instagram island’ hit by quakes\n",
      "The US president hit Mexico and Canada with huge new tariffs and is threatening the treaty under which the US handed over control of the Panama Canal\n",
      "Trump reiterates threat to retake Panama Canal ‘or something very powerful’ will happen\n",
      "Asia markets slump as Trump’s new trade war rattles global confidence\n",
      "Stock futures slide after Trump imposes tariffs\n",
      "This family of ten trekked from Venezuela in hopes of asylum in America. Now they’re stuck at the border\n",
      "Canadian PM candidate warns Americans will be ‘astonished’ by Canadian response\n",
      "Musk calls USAID a ‘criminal organization’ after security officials tried to block entry to DOGE staff\n",
      "‘Americans are saying no, no, no’ to Trump’s tariffs, senior data reporter says\n",
      "Malaysia’s best kept secret spills into the open as police allege a global business exploited its workers and abused their children\n",
      "Netanyahu blows past ceasefire talks deadline to confer with Trump\n",
      "Arab nations reject Trump’s call to relocate Gazans to neighboring countries\n",
      "Australia braces for more destruction as deadly floods devastate northeast\n",
      "Catch up on today’s global news\n",
      "Beyoncé wins album of the year at the 2025 Grammys\n",
      "See how Grammy attendees react as Beyoncé wins best country album\n",
      "Best red carpet looks at the Grammys\n",
      "List of winners and nominees\n",
      "Chappell Roan advocates for emerging musicians while accepting award\n",
      "Ukrainian troops fear the consequences of a potential ceasefire\n",
      "UK to target AI child sex abuse tools in world first legal crackdown\n",
      "Inside the grueling effort to recover the bodies of all 67 victims from the DC plane collision wreckage\n",
      "Trump ordered removal of certain health data, information from CDC website. Epidemiologist reacts\n",
      "5 remain hospitalized after a medevac jet crashed in Philadelphia, killing 7\n",
      "Train station tragedy threatens to bring down hardline European president\n",
      "This picturesque Japanese town has more visitors than locals, and it’s causing problems\n",
      "Greece’s ‘Instagram island’ hit by 200 earthquakes\n",
      "A flying phobia affects more than 25 million Americans. Here’s how to manage it\n",
      "United Airlines flight evacuated after engine issue reported\n",
      "Welcome to ‘No Buy 2025’\n",
      "Some migrant families haven’t left their homes since Trump took office. Here’s how one person is helping\n",
      "Hidden World War II tunnels to open to public\n",
      "Dana Reeve’s experience of caregiver grief has something to teach us\n",
      "Ballerina’s viral dance on ship’s bow so enchanting, social media claimed it was AI\n",
      "Valentine’s Day is almost here. Should you break up now or wait until after the holidays?\n",
      "CNN asks Beijing locals about economy at Lunar New Year festival\n",
      "How Alexander the Great redrew the map of the world\n",
      "What did the groundhog see? Punxsutawney Phil’s winter predictions are in\n",
      "She relocated to Spain in 2022, but after struggling to adapt, this American woman has packed up and returned home\n",
      "Dallas Mavericks superstar breaks silence following shocking trade\n",
      "MMA fighter Taylor Swift on the trouble he faces sharing a name with a global superstar\n",
      "The 2025 Super Bowl ads\n",
      "Karla Sofía Gascón says she will not withdraw from Oscar contention over past comments\n",
      "Two buried ‘supercontinents’ hiding inside Earth could be much older than previously thought\n",
      "Historic asteroid sample reveals the ‘building blocks of life are in fact extraterrestrial in origin,’ scientists say\n",
      "Elon Musk says SpaceX will bring home astronauts that he claims were left ‘stranded’— but NASA announced that plan months ago\n",
      "Doomsday Clock 2025: Scientists set new time\n",
      "This 200-year-old cottage in the middle of nowhere has been given a Michelin star\n",
      "America’s answer to Concorde just hit Mach 1.1 on its first supersonic flight. Several airlines have already placed orders\n",
      "‘Americans kickstarted the resurrection’: Now Italians are snapping up $1 homes for themselves\n",
      "Exploring the city where modern America was born\n",
      "Trump fires head of the Consumer Financial Protection Bureau\n",
      "Trump Media grants large amounts of stock to directors, including two who are Trump administration nominees\n",
      "Trump’s tariffs are a $1.4 trillion gamble with the economy\n",
      "OpenAI now wants to make DeepSeek look like the villain\n",
      "The hipster aesthetic is back - but not as you remember\n",
      "‘Mona Lisa’ will get its own room under a 10-year renovation of the Louvre in Paris\n",
      "A photographer’s fantastical portrait of rural China during Lunar New Year\n",
      "Inside the Louvre’s first ever fashion exhibition, with treasures from Versace to Dior\n",
      "Giannis Antetokounmpo left furious after scuffle with Chris Paul during Milwaukee Bucks’ defeat against San Antonio Spurs\n",
      "‘Feels like I’m going back in time’: Neymar confirms emotional Santos return\n",
      "Dick Button, the pioneering ‘godfather’ of figure skating, dies at 95\n",
      "Mikaela Shiffrin returns to competition after serious injury, finishes 10th\n",
      "How the Trump team is building out immigration enforcement\n",
      "Trump’s allies trying to shore up support for RFK Jr. and Tulsi Gabbard following confirmation hearings\n",
      "Louisiana issues arrest warrant for New York doctor indicted for prescribing abortion pill\n",
      "Rubio heads to Central America as Trump admin attempts crack down on migration to US\n",
      "Trump prepares to revoke legal status for many migrants who arrived under Biden\n",
      "Those NFL ads are fun, but you should be careful of the foods they sell, study shows\n",
      "Physical decline is common as we age. These exercises can help mitigate the effects\n",
      "Essay: What this teenager wants you to know about the damaging effects of AI\n",
      "A rare brain disorder robbed Robert F. Kennedy Jr. of his strong speaking voice\n",
      "DeepSeek is giving the world a window into Chinese censorship and information control\n",
      "American teens are increasingly misled by fake content online, report shows\n",
      "Why DeepSeek could mark a turning point for Silicon Valley on AI\n",
      "Google Maps will change the Gulf of Mexico to the Gulf of America\n",
      "In pictures: Lunar New Year celebrations\n",
      "The last time the Chiefs and Eagles met in the Super Bowl\n",
      "In pictures: Deadly wildfires in Los Angeles County\n",
      "In pictures: The liberation of Auschwitz\n",
      "New cities and giant ports: The infrastructure megaprojects set to transform Africa\n",
      "In pictures: The greatest Super Bowl records\n",
      "Blue Ghost lunar lander is documenting its journey to the moon. Views are breathtaking\n",
      "Trump wants an ‘Iron Dome’ over the US. But even a mini version in the Pacific is taking a while\n",
      "Federal employees confused, angered by Trump’s offer to quit\n",
      "Trump said he hadn’t read Project 2025 – but most of his early executive actions overlap with its proposals\n",
      "Trump says banning TikTok won’t make Americans safer from China. He may have a point\n",
      "Federal agents in immigration operations told to be camera-ready as thousands arrested\n",
      "Tiny QR codes help scientists track bee movements\n",
      "Trump DOJ appointee in DC lashes out after flurry of ‘personally insulting’ leaks in his first week\n",
      "Why social media has such an impact on eating disorders, according to experts\n",
      "Paris’ Louvre museum in dire state, problems ‘endanger’ art, director warns in plea for help\n"
     ]
    }
   ],
   "source": [
    "urls = ['https://www.bbc.com/news', 'https://edition.cnn.com/', 'https://www.reuters.com/']\n",
    "classes = {'cnn_class': 'container__headline-text', 'reuters_class': 'text__text__1FZLe text__inherit-color__3208F text__bold__2-8Kc text__heading_6__1qUJ5 heading__base__2T28j heading__heading_6_bold__1Kge5 title__heading__s7Jan'}\n",
    "cnn_class = 'container__headline-text'\n",
    "reuters_class = 'text__text__1FZLe text__inherit-color__3208F text__bold__2-8Kc text__heading_6__1qUJ5 heading__base__2T28j heading__heading_6_bold__1Kge5 title__heading__s7Jan'\n",
    "def news_headings(data):\n",
    "    class_ = f'{data}_class'\n",
    "    print(class_)\n",
    "    print(f\"{data} News Headlines\")\n",
    "    for news in urls:\n",
    "        name = f'{data}.com'\n",
    "        if name in news:\n",
    "            response = requests.get(news)\n",
    "            soup = BeautifulSoup(response.text, 'html.parser')\n",
    "            if class_ in classes.keys():\n",
    "                    print(\"yes\")\n",
    "                    data = soup.find_all('span', class_ = classes[class_])\n",
    "                    print(classes[class_])\n",
    "                    headlines = [news.text.strip() for news in data]\n",
    "                    for i in headlines:\n",
    "                        print(i)\n",
    "            elif soup.find_all('h2'):\n",
    "                data = soup.find_all('h2')\n",
    "                headlines = [news.text.strip() for news in data]\n",
    "                for i in headlines:\n",
    "                     print(i)\n",
    "            else:\n",
    "                print(\"Data is Not Stored.\")\n",
    "\n",
    "news_headings(input(\"\"))\n",
    "    "
   ]
  },
  {
   "cell_type": "code",
   "execution_count": 29,
   "metadata": {},
   "outputs": [
    {
     "name": "stdout",
     "output_type": "stream",
     "text": [
      "['https://www.bbc.com/news', 'https://edition.cnn.com/', 'https://www.reuters.com/']\n"
     ]
    }
   ],
   "source": [
    "print(urls)"
   ]
  },
  {
   "cell_type": "code",
   "execution_count": 61,
   "metadata": {},
   "outputs": [
    {
     "data": {
      "text/plain": [
       "'container__headline-text'"
      ]
     },
     "execution_count": 61,
     "metadata": {},
     "output_type": "execute_result"
    }
   ],
   "source": [
    "cnn_class"
   ]
  },
  {
   "cell_type": "code",
   "execution_count": 75,
   "metadata": {},
   "outputs": [
    {
     "name": "stdout",
     "output_type": "stream",
     "text": [
      "[]\n"
     ]
    }
   ],
   "source": [
    "reuters_class = 'text__text__1FZLe text__inherit-color__3208F text__bold__2-8Kc text__heading_6__1qUJ5 heading__base__2T28j heading__heading_6_bold__1Kge5 title__heading__s7Jan'\n",
    "response = requests.get('https://www.reuters.com/')\n",
    "soup = BeautifulSoup(response.text, 'html')\n",
    "data = soup.find_all('span', class_ = 'text__text__1FZLe text__inherit-color__3208F text__bold__2-8Kc text__heading_6__1qUJ5 heading__base__2T28j heading__heading_6_bold__1Kge5 title__heading__s7Jan')\n",
    "print(data)"
   ]
  },
  {
   "cell_type": "code",
   "execution_count": 2,
   "metadata": {},
   "outputs": [
    {
     "name": "stdout",
     "output_type": "stream",
     "text": [
      "Requirement already satisfied: selenium in c:\\users\\galla\\anaconda3\\lib\\site-packages (4.28.0)\n",
      "Requirement already satisfied: urllib3<3,>=1.26 in c:\\users\\galla\\anaconda3\\lib\\site-packages (from urllib3[socks]<3,>=1.26->selenium) (2.2.3)\n",
      "Requirement already satisfied: trio~=0.17 in c:\\users\\galla\\anaconda3\\lib\\site-packages (from selenium) (0.28.0)\n",
      "Requirement already satisfied: trio-websocket~=0.9 in c:\\users\\galla\\anaconda3\\lib\\site-packages (from selenium) (0.11.1)\n",
      "Requirement already satisfied: certifi>=2021.10.8 in c:\\users\\galla\\anaconda3\\lib\\site-packages (from selenium) (2024.12.14)\n",
      "Requirement already satisfied: typing_extensions~=4.9 in c:\\users\\galla\\anaconda3\\lib\\site-packages (from selenium) (4.11.0)\n",
      "Requirement already satisfied: websocket-client~=1.8 in c:\\users\\galla\\anaconda3\\lib\\site-packages (from selenium) (1.8.0)\n",
      "Requirement already satisfied: attrs>=23.2.0 in c:\\users\\galla\\anaconda3\\lib\\site-packages (from trio~=0.17->selenium) (24.3.0)\n",
      "Requirement already satisfied: sortedcontainers in c:\\users\\galla\\anaconda3\\lib\\site-packages (from trio~=0.17->selenium) (2.4.0)\n",
      "Requirement already satisfied: idna in c:\\users\\galla\\anaconda3\\lib\\site-packages (from trio~=0.17->selenium) (3.7)\n",
      "Requirement already satisfied: outcome in c:\\users\\galla\\anaconda3\\lib\\site-packages (from trio~=0.17->selenium) (1.3.0.post0)\n",
      "Requirement already satisfied: sniffio>=1.3.0 in c:\\users\\galla\\anaconda3\\lib\\site-packages (from trio~=0.17->selenium) (1.3.0)\n",
      "Requirement already satisfied: cffi>=1.14 in c:\\users\\galla\\anaconda3\\lib\\site-packages (from trio~=0.17->selenium) (1.17.1)\n",
      "Requirement already satisfied: wsproto>=0.14 in c:\\users\\galla\\anaconda3\\lib\\site-packages (from trio-websocket~=0.9->selenium) (1.2.0)\n",
      "Requirement already satisfied: pysocks!=1.5.7,<2.0,>=1.5.6 in c:\\users\\galla\\anaconda3\\lib\\site-packages (from urllib3[socks]<3,>=1.26->selenium) (1.7.1)\n",
      "Requirement already satisfied: pycparser in c:\\users\\galla\\anaconda3\\lib\\site-packages (from cffi>=1.14->trio~=0.17->selenium) (2.21)\n",
      "Requirement already satisfied: h11<1,>=0.9.0 in c:\\users\\galla\\anaconda3\\lib\\site-packages (from wsproto>=0.14->trio-websocket~=0.9->selenium) (0.14.0)\n",
      "Note: you may need to restart the kernel to use updated packages.\n"
     ]
    },
    {
     "name": "stderr",
     "output_type": "stream",
     "text": [
      "WARNING: Ignoring invalid distribution ~atplotlib (c:\\Users\\galla\\anaconda3\\Lib\\site-packages)\n",
      "WARNING: Ignoring invalid distribution ~atplotlib (c:\\Users\\galla\\anaconda3\\Lib\\site-packages)\n",
      "WARNING: Ignoring invalid distribution ~atplotlib (c:\\Users\\galla\\anaconda3\\Lib\\site-packages)\n"
     ]
    }
   ],
   "source": [
    "pip install selenium"
   ]
  },
  {
   "cell_type": "code",
   "execution_count": 13,
   "metadata": {},
   "outputs": [
    {
     "ename": "ModuleNotFoundError",
     "evalue": "No module named 'selenium'",
     "output_type": "error",
     "traceback": [
      "\u001b[1;31m---------------------------------------------------------------------------\u001b[0m",
      "\u001b[1;31mModuleNotFoundError\u001b[0m                       Traceback (most recent call last)",
      "Cell \u001b[1;32mIn[13], line 1\u001b[0m\n\u001b[1;32m----> 1\u001b[0m \u001b[38;5;28;01mfrom\u001b[39;00m \u001b[38;5;21;01mselenium\u001b[39;00m \u001b[38;5;28;01mimport\u001b[39;00m webdriver\n\u001b[0;32m      2\u001b[0m \u001b[38;5;28;01mfrom\u001b[39;00m \u001b[38;5;21;01mbs4\u001b[39;00m \u001b[38;5;28;01mimport\u001b[39;00m BeautifulSoup\n\u001b[0;32m      4\u001b[0m \u001b[38;5;66;03m# Set up the Selenium WebDriver\u001b[39;00m\n",
      "\u001b[1;31mModuleNotFoundError\u001b[0m: No module named 'selenium'"
     ]
    }
   ],
   "source": [
    "from selenium import webdriver\n",
    "from bs4 import BeautifulSoup\n",
    "\n",
    "# Set up the Selenium WebDriver\n",
    "driver = webdriver.Chrome()  # or use another browser driver\n",
    "driver.get(\"https://www.reuters.com/\")\n",
    "\n",
    "# Get the rendered HTML\n",
    "html = driver.page_source\n",
    "soup = BeautifulSoup(html, \"html.parser\")\n",
    "\n",
    "# Find the desired tags\n",
    "data = soup.find_all('span', class_='text__text__1FZLe text__inherit-color__3208F text__bold__2-8Kc text__heading_6__1qUJ5 heading__base__2T28j heading__heading_6_bold__1Kge5 title__heading__s7Jan')\n",
    "news = [new.text for new in data]\n",
    "for new in news:\n",
    "    print(new)\n",
    "\n",
    "# Close the browser\n",
    "driver.quit()\n"
   ]
  },
  {
   "cell_type": "code",
   "execution_count": 24,
   "metadata": {},
   "outputs": [
    {
     "name": "stdout",
     "output_type": "stream",
     "text": [
      "Reuters News Headlines\n",
      "No headlines found for reuters. The content might be loaded dynamically.\n"
     ]
    }
   ],
   "source": [
    "import requests\n",
    "from bs4 import BeautifulSoup\n",
    "\n",
    "urls = [\n",
    "    'https://www.bbc.com/news',\n",
    "    'https://edition.cnn.com/',\n",
    "    'https://www.reuters.com/'\n",
    "]\n",
    "classes = {\n",
    "    'cnn': 'container__headline-text',\n",
    "    'reuters': 'text__text__1FZLe text__inherit-color__3208F text__bold__2-8Kc text__heading_6__1qUJ5 heading__base__2T28j heading__heading_6_bold__1Kge5 title__heading__s7Jan'\n",
    "}\n",
    "\n",
    "def news_headings(source):\n",
    "    if source not in classes:\n",
    "        print(f\"Invalid source: {source}\")\n",
    "        return\n",
    "\n",
    "    print(f\"{source.capitalize()} News Headlines\")\n",
    "\n",
    "    for news_url in urls:\n",
    "        if source in news_url:\n",
    "            response = requests.get(news_url)\n",
    "            soup = BeautifulSoup(response.text, 'html.parser')\n",
    "\n",
    "            class_name = classes[source]\n",
    "\n",
    "            # Attempt to find elements with the specified class\n",
    "            data = soup.find_all('span', class_=class_name)\n",
    "            if data:\n",
    "                headlines = [item.text.strip() for item in data]\n",
    "                for i, headline in enumerate(headlines):\n",
    "                    print(i+1, headline)\n",
    "                print(f'For more information visit {news_url}')\n",
    "            else:\n",
    "                print(f\"No headlines found for {source}. The content might be loaded dynamically.\")\n",
    "\n",
    "# Example usage\n",
    "news_headings(input(\"Enter news source (e.g., cnn, reuters): \").strip().lower())\n"
   ]
  },
  {
   "cell_type": "code",
   "execution_count": null,
   "metadata": {},
   "outputs": [],
   "source": []
  }
 ],
 "metadata": {
  "kernelspec": {
   "display_name": "base",
   "language": "python",
   "name": "python3"
  },
  "language_info": {
   "codemirror_mode": {
    "name": "ipython",
    "version": 3
   },
   "file_extension": ".py",
   "mimetype": "text/x-python",
   "name": "python",
   "nbconvert_exporter": "python",
   "pygments_lexer": "ipython3",
   "version": "3.12.7"
  }
 },
 "nbformat": 4,
 "nbformat_minor": 2
}
